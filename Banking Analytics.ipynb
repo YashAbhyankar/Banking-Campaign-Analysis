{
 "cells": [
  {
   "cell_type": "code",
   "execution_count": 1,
   "id": "ab198af6",
   "metadata": {},
   "outputs": [],
   "source": [
    "import numpy as np\n",
    "import matplotlib.pyplot as plt\n",
    "import pandas as pd\n",
    "import seaborn as sns"
   ]
  },
  {
   "cell_type": "code",
   "execution_count": 2,
   "id": "e9b31731",
   "metadata": {},
   "outputs": [],
   "source": [
    "#Loading the the dataset onto a dataframe we named as df using pandas\n",
    "df = pd.read_csv(\"C:/Users/Mitali/Desktop/Study/Data Intensive Computing/Project/Banking Dataset - Marketing Targets/Dataset/Bank data.csv\", sep = \";\")"
   ]
  },
  {
   "cell_type": "code",
   "execution_count": 3,
   "id": "858b37e5",
   "metadata": {},
   "outputs": [
    {
     "data": {
      "text/html": [
       "<div>\n",
       "<style scoped>\n",
       "    .dataframe tbody tr th:only-of-type {\n",
       "        vertical-align: middle;\n",
       "    }\n",
       "\n",
       "    .dataframe tbody tr th {\n",
       "        vertical-align: top;\n",
       "    }\n",
       "\n",
       "    .dataframe thead th {\n",
       "        text-align: right;\n",
       "    }\n",
       "</style>\n",
       "<table border=\"1\" class=\"dataframe\">\n",
       "  <thead>\n",
       "    <tr style=\"text-align: right;\">\n",
       "      <th></th>\n",
       "      <th>age</th>\n",
       "      <th>job</th>\n",
       "      <th>marital</th>\n",
       "      <th>education</th>\n",
       "      <th>default</th>\n",
       "      <th>balance</th>\n",
       "      <th>housing</th>\n",
       "      <th>loan</th>\n",
       "      <th>contact</th>\n",
       "      <th>day</th>\n",
       "      <th>month</th>\n",
       "      <th>duration</th>\n",
       "      <th>campaign</th>\n",
       "      <th>pdays</th>\n",
       "      <th>previous</th>\n",
       "      <th>poutcome</th>\n",
       "      <th>y</th>\n",
       "    </tr>\n",
       "  </thead>\n",
       "  <tbody>\n",
       "    <tr>\n",
       "      <th>0</th>\n",
       "      <td>58</td>\n",
       "      <td>management</td>\n",
       "      <td>married</td>\n",
       "      <td>tertiary</td>\n",
       "      <td>no</td>\n",
       "      <td>2143</td>\n",
       "      <td>yes</td>\n",
       "      <td>no</td>\n",
       "      <td>unknown</td>\n",
       "      <td>5</td>\n",
       "      <td>may</td>\n",
       "      <td>261</td>\n",
       "      <td>1</td>\n",
       "      <td>-1</td>\n",
       "      <td>0</td>\n",
       "      <td>unknown</td>\n",
       "      <td>no</td>\n",
       "    </tr>\n",
       "    <tr>\n",
       "      <th>1</th>\n",
       "      <td>44</td>\n",
       "      <td>technician</td>\n",
       "      <td>single</td>\n",
       "      <td>secondary</td>\n",
       "      <td>no</td>\n",
       "      <td>29</td>\n",
       "      <td>yes</td>\n",
       "      <td>no</td>\n",
       "      <td>unknown</td>\n",
       "      <td>5</td>\n",
       "      <td>may</td>\n",
       "      <td>151</td>\n",
       "      <td>1</td>\n",
       "      <td>-1</td>\n",
       "      <td>0</td>\n",
       "      <td>unknown</td>\n",
       "      <td>no</td>\n",
       "    </tr>\n",
       "    <tr>\n",
       "      <th>2</th>\n",
       "      <td>33</td>\n",
       "      <td>entrepreneur</td>\n",
       "      <td>married</td>\n",
       "      <td>secondary</td>\n",
       "      <td>no</td>\n",
       "      <td>2</td>\n",
       "      <td>yes</td>\n",
       "      <td>yes</td>\n",
       "      <td>unknown</td>\n",
       "      <td>5</td>\n",
       "      <td>may</td>\n",
       "      <td>76</td>\n",
       "      <td>1</td>\n",
       "      <td>-1</td>\n",
       "      <td>0</td>\n",
       "      <td>unknown</td>\n",
       "      <td>no</td>\n",
       "    </tr>\n",
       "    <tr>\n",
       "      <th>3</th>\n",
       "      <td>47</td>\n",
       "      <td>blue-collar</td>\n",
       "      <td>married</td>\n",
       "      <td>unknown</td>\n",
       "      <td>no</td>\n",
       "      <td>1506</td>\n",
       "      <td>yes</td>\n",
       "      <td>no</td>\n",
       "      <td>unknown</td>\n",
       "      <td>5</td>\n",
       "      <td>may</td>\n",
       "      <td>92</td>\n",
       "      <td>1</td>\n",
       "      <td>-1</td>\n",
       "      <td>0</td>\n",
       "      <td>unknown</td>\n",
       "      <td>no</td>\n",
       "    </tr>\n",
       "    <tr>\n",
       "      <th>4</th>\n",
       "      <td>33</td>\n",
       "      <td>unknown</td>\n",
       "      <td>single</td>\n",
       "      <td>unknown</td>\n",
       "      <td>no</td>\n",
       "      <td>1</td>\n",
       "      <td>no</td>\n",
       "      <td>no</td>\n",
       "      <td>unknown</td>\n",
       "      <td>5</td>\n",
       "      <td>may</td>\n",
       "      <td>198</td>\n",
       "      <td>1</td>\n",
       "      <td>-1</td>\n",
       "      <td>0</td>\n",
       "      <td>unknown</td>\n",
       "      <td>no</td>\n",
       "    </tr>\n",
       "  </tbody>\n",
       "</table>\n",
       "</div>"
      ],
      "text/plain": [
       "   age           job  marital  education default  balance housing loan  \\\n",
       "0   58    management  married   tertiary      no     2143     yes   no   \n",
       "1   44    technician   single  secondary      no       29     yes   no   \n",
       "2   33  entrepreneur  married  secondary      no        2     yes  yes   \n",
       "3   47   blue-collar  married    unknown      no     1506     yes   no   \n",
       "4   33       unknown   single    unknown      no        1      no   no   \n",
       "\n",
       "   contact  day month  duration  campaign  pdays  previous poutcome   y  \n",
       "0  unknown    5   may       261         1     -1         0  unknown  no  \n",
       "1  unknown    5   may       151         1     -1         0  unknown  no  \n",
       "2  unknown    5   may        76         1     -1         0  unknown  no  \n",
       "3  unknown    5   may        92         1     -1         0  unknown  no  \n",
       "4  unknown    5   may       198         1     -1         0  unknown  no  "
      ]
     },
     "execution_count": 3,
     "metadata": {},
     "output_type": "execute_result"
    }
   ],
   "source": [
    "df.head()"
   ]
  },
  {
   "cell_type": "code",
   "execution_count": 4,
   "id": "9a8afcb7",
   "metadata": {},
   "outputs": [
    {
     "data": {
      "text/plain": [
       "age          0\n",
       "job          0\n",
       "marital      0\n",
       "education    0\n",
       "default      0\n",
       "balance      0\n",
       "housing      0\n",
       "loan         0\n",
       "contact      0\n",
       "day          0\n",
       "month        0\n",
       "duration     0\n",
       "campaign     0\n",
       "pdays        0\n",
       "previous     0\n",
       "poutcome     0\n",
       "y            0\n",
       "dtype: int64"
      ]
     },
     "execution_count": 4,
     "metadata": {},
     "output_type": "execute_result"
    }
   ],
   "source": [
    "#This code block checks for null values if present in any column and then outputs the total count of null values in \n",
    "#that column\n",
    "# This shows that our dataset has no null values present\n",
    "df.isnull().sum()"
   ]
  },
  {
   "cell_type": "code",
   "execution_count": 5,
   "id": "f75f0fcb",
   "metadata": {},
   "outputs": [
    {
     "data": {
      "text/plain": [
       "False    45211\n",
       "dtype: int64"
      ]
     },
     "execution_count": 5,
     "metadata": {},
     "output_type": "execute_result"
    }
   ],
   "source": [
    "#This code block is used to find the number of duplicated values present if any in the dataset.\n",
    "#The output false just proves that there are no duplicated values in the dataset.\n",
    "df.duplicated().value_counts()"
   ]
  },
  {
   "cell_type": "code",
   "execution_count": 6,
   "id": "b643747b",
   "metadata": {},
   "outputs": [
    {
     "name": "stdout",
     "output_type": "stream",
     "text": [
      "<class 'pandas.core.frame.DataFrame'>\n",
      "RangeIndex: 45211 entries, 0 to 45210\n",
      "Data columns (total 17 columns):\n",
      " #   Column     Non-Null Count  Dtype \n",
      "---  ------     --------------  ----- \n",
      " 0   age        45211 non-null  int64 \n",
      " 1   job        45211 non-null  object\n",
      " 2   marital    45211 non-null  object\n",
      " 3   education  45211 non-null  object\n",
      " 4   default    45211 non-null  object\n",
      " 5   balance    45211 non-null  int64 \n",
      " 6   housing    45211 non-null  object\n",
      " 7   loan       45211 non-null  object\n",
      " 8   contact    45211 non-null  object\n",
      " 9   day        45211 non-null  int64 \n",
      " 10  month      45211 non-null  object\n",
      " 11  duration   45211 non-null  int64 \n",
      " 12  campaign   45211 non-null  int64 \n",
      " 13  pdays      45211 non-null  int64 \n",
      " 14  previous   45211 non-null  int64 \n",
      " 15  poutcome   45211 non-null  object\n",
      " 16  y          45211 non-null  object\n",
      "dtypes: int64(7), object(10)\n",
      "memory usage: 5.9+ MB\n"
     ]
    }
   ],
   "source": [
    "#Here, we try to understand the number of column, their count type as well as the data type of these columns.\n",
    "df.info()"
   ]
  },
  {
   "cell_type": "code",
   "execution_count": 7,
   "id": "c2f3733a",
   "metadata": {},
   "outputs": [],
   "source": [
    "#The columns which have object datatype are our categorical columns and we need to know the knid of \n",
    "#unique values they possess."
   ]
  },
  {
   "cell_type": "code",
   "execution_count": 8,
   "id": "332be7c9",
   "metadata": {},
   "outputs": [
    {
     "data": {
      "text/plain": [
       "array(['management', 'technician', 'entrepreneur', 'blue-collar',\n",
       "       'unknown', 'retired', 'admin.', 'services', 'self-employed',\n",
       "       'unemployed', 'housemaid', 'student'], dtype=object)"
      ]
     },
     "execution_count": 8,
     "metadata": {},
     "output_type": "execute_result"
    }
   ],
   "source": [
    "df.job.unique()"
   ]
  },
  {
   "cell_type": "code",
   "execution_count": 9,
   "id": "e32b648d",
   "metadata": {},
   "outputs": [
    {
     "data": {
      "text/plain": [
       "array(['married', 'single', 'divorced'], dtype=object)"
      ]
     },
     "execution_count": 9,
     "metadata": {},
     "output_type": "execute_result"
    }
   ],
   "source": [
    "df.marital.unique()"
   ]
  },
  {
   "cell_type": "code",
   "execution_count": 10,
   "id": "fca6677a",
   "metadata": {},
   "outputs": [
    {
     "data": {
      "text/plain": [
       "array(['tertiary', 'secondary', 'unknown', 'primary'], dtype=object)"
      ]
     },
     "execution_count": 10,
     "metadata": {},
     "output_type": "execute_result"
    }
   ],
   "source": [
    "\n",
    "\n",
    "df.education.unique()"
   ]
  },
  {
   "cell_type": "code",
   "execution_count": 11,
   "id": "dcfd6d0b",
   "metadata": {},
   "outputs": [
    {
     "data": {
      "text/plain": [
       "array(['no', 'yes'], dtype=object)"
      ]
     },
     "execution_count": 11,
     "metadata": {},
     "output_type": "execute_result"
    }
   ],
   "source": [
    "df.default.unique()"
   ]
  },
  {
   "cell_type": "code",
   "execution_count": 12,
   "id": "7cf46f4d",
   "metadata": {},
   "outputs": [
    {
     "data": {
      "text/plain": [
       "array(['yes', 'no'], dtype=object)"
      ]
     },
     "execution_count": 12,
     "metadata": {},
     "output_type": "execute_result"
    }
   ],
   "source": [
    "df.housing.unique()"
   ]
  },
  {
   "cell_type": "code",
   "execution_count": 13,
   "id": "a12ed273",
   "metadata": {},
   "outputs": [
    {
     "data": {
      "text/plain": [
       "array(['no', 'yes'], dtype=object)"
      ]
     },
     "execution_count": 13,
     "metadata": {},
     "output_type": "execute_result"
    }
   ],
   "source": [
    "df.loan.unique()"
   ]
  },
  {
   "cell_type": "code",
   "execution_count": 14,
   "id": "a081a1fa",
   "metadata": {},
   "outputs": [
    {
     "data": {
      "text/plain": [
       "array(['unknown', 'cellular', 'telephone'], dtype=object)"
      ]
     },
     "execution_count": 14,
     "metadata": {},
     "output_type": "execute_result"
    }
   ],
   "source": [
    "df.contact.unique()"
   ]
  },
  {
   "cell_type": "code",
   "execution_count": 15,
   "id": "af36307c",
   "metadata": {},
   "outputs": [
    {
     "data": {
      "text/plain": [
       "array(['may', 'jun', 'jul', 'aug', 'oct', 'nov', 'dec', 'jan', 'feb',\n",
       "       'mar', 'apr', 'sep'], dtype=object)"
      ]
     },
     "execution_count": 15,
     "metadata": {},
     "output_type": "execute_result"
    }
   ],
   "source": [
    "df.month.unique()"
   ]
  },
  {
   "cell_type": "code",
   "execution_count": 16,
   "id": "c473c19c",
   "metadata": {},
   "outputs": [
    {
     "data": {
      "text/plain": [
       "array(['unknown', 'failure', 'other', 'success'], dtype=object)"
      ]
     },
     "execution_count": 16,
     "metadata": {},
     "output_type": "execute_result"
    }
   ],
   "source": [
    "df.poutcome.unique()"
   ]
  },
  {
   "cell_type": "code",
   "execution_count": 17,
   "id": "393b7ce1",
   "metadata": {},
   "outputs": [
    {
     "data": {
      "text/plain": [
       "array(['no', 'yes'], dtype=object)"
      ]
     },
     "execution_count": 17,
     "metadata": {},
     "output_type": "execute_result"
    }
   ],
   "source": [
    "df.y.unique()"
   ]
  },
  {
   "cell_type": "code",
   "execution_count": 18,
   "id": "8cd7e83a",
   "metadata": {},
   "outputs": [
    {
     "data": {
      "text/plain": [
       "Index(['age', 'job', 'marital', 'education', 'default', 'balance', 'housing',\n",
       "       'loan', 'contact', 'day', 'month', 'duration', 'campaign', 'pdays',\n",
       "       'previous', 'poutcome', 'y'],\n",
       "      dtype='object')"
      ]
     },
     "execution_count": 18,
     "metadata": {},
     "output_type": "execute_result"
    }
   ],
   "source": [
    "#Certain Column names need to be changed as they are not indicative of the features they are representing correctly.\n",
    "df.columns"
   ]
  },
  {
   "cell_type": "code",
   "execution_count": 19,
   "id": "04e34c41",
   "metadata": {},
   "outputs": [
    {
     "data": {
      "text/html": [
       "<div>\n",
       "<style scoped>\n",
       "    .dataframe tbody tr th:only-of-type {\n",
       "        vertical-align: middle;\n",
       "    }\n",
       "\n",
       "    .dataframe tbody tr th {\n",
       "        vertical-align: top;\n",
       "    }\n",
       "\n",
       "    .dataframe thead th {\n",
       "        text-align: right;\n",
       "    }\n",
       "</style>\n",
       "<table border=\"1\" class=\"dataframe\">\n",
       "  <thead>\n",
       "    <tr style=\"text-align: right;\">\n",
       "      <th></th>\n",
       "      <th>Age</th>\n",
       "      <th>Profession</th>\n",
       "      <th>Marital_Status</th>\n",
       "      <th>education</th>\n",
       "      <th>Default_Credit</th>\n",
       "      <th>Annual_Bankbal</th>\n",
       "      <th>Housing_Loan</th>\n",
       "      <th>Private_Loan</th>\n",
       "      <th>Contact_Medium</th>\n",
       "      <th>Last_Contact_Day</th>\n",
       "      <th>Prior_Contact_Mos</th>\n",
       "      <th>Call_Duration</th>\n",
       "      <th>campaign</th>\n",
       "      <th>Previous_Idledays</th>\n",
       "      <th>Prior_Contact_ct</th>\n",
       "      <th>Prior_Outcome</th>\n",
       "      <th>Latest_Outcome</th>\n",
       "    </tr>\n",
       "  </thead>\n",
       "  <tbody>\n",
       "    <tr>\n",
       "      <th>0</th>\n",
       "      <td>58</td>\n",
       "      <td>management</td>\n",
       "      <td>married</td>\n",
       "      <td>tertiary</td>\n",
       "      <td>no</td>\n",
       "      <td>2143</td>\n",
       "      <td>yes</td>\n",
       "      <td>no</td>\n",
       "      <td>unknown</td>\n",
       "      <td>5</td>\n",
       "      <td>may</td>\n",
       "      <td>261</td>\n",
       "      <td>1</td>\n",
       "      <td>-1</td>\n",
       "      <td>0</td>\n",
       "      <td>unknown</td>\n",
       "      <td>no</td>\n",
       "    </tr>\n",
       "    <tr>\n",
       "      <th>1</th>\n",
       "      <td>44</td>\n",
       "      <td>technician</td>\n",
       "      <td>single</td>\n",
       "      <td>secondary</td>\n",
       "      <td>no</td>\n",
       "      <td>29</td>\n",
       "      <td>yes</td>\n",
       "      <td>no</td>\n",
       "      <td>unknown</td>\n",
       "      <td>5</td>\n",
       "      <td>may</td>\n",
       "      <td>151</td>\n",
       "      <td>1</td>\n",
       "      <td>-1</td>\n",
       "      <td>0</td>\n",
       "      <td>unknown</td>\n",
       "      <td>no</td>\n",
       "    </tr>\n",
       "    <tr>\n",
       "      <th>2</th>\n",
       "      <td>33</td>\n",
       "      <td>entrepreneur</td>\n",
       "      <td>married</td>\n",
       "      <td>secondary</td>\n",
       "      <td>no</td>\n",
       "      <td>2</td>\n",
       "      <td>yes</td>\n",
       "      <td>yes</td>\n",
       "      <td>unknown</td>\n",
       "      <td>5</td>\n",
       "      <td>may</td>\n",
       "      <td>76</td>\n",
       "      <td>1</td>\n",
       "      <td>-1</td>\n",
       "      <td>0</td>\n",
       "      <td>unknown</td>\n",
       "      <td>no</td>\n",
       "    </tr>\n",
       "    <tr>\n",
       "      <th>3</th>\n",
       "      <td>47</td>\n",
       "      <td>blue-collar</td>\n",
       "      <td>married</td>\n",
       "      <td>unknown</td>\n",
       "      <td>no</td>\n",
       "      <td>1506</td>\n",
       "      <td>yes</td>\n",
       "      <td>no</td>\n",
       "      <td>unknown</td>\n",
       "      <td>5</td>\n",
       "      <td>may</td>\n",
       "      <td>92</td>\n",
       "      <td>1</td>\n",
       "      <td>-1</td>\n",
       "      <td>0</td>\n",
       "      <td>unknown</td>\n",
       "      <td>no</td>\n",
       "    </tr>\n",
       "    <tr>\n",
       "      <th>4</th>\n",
       "      <td>33</td>\n",
       "      <td>unknown</td>\n",
       "      <td>single</td>\n",
       "      <td>unknown</td>\n",
       "      <td>no</td>\n",
       "      <td>1</td>\n",
       "      <td>no</td>\n",
       "      <td>no</td>\n",
       "      <td>unknown</td>\n",
       "      <td>5</td>\n",
       "      <td>may</td>\n",
       "      <td>198</td>\n",
       "      <td>1</td>\n",
       "      <td>-1</td>\n",
       "      <td>0</td>\n",
       "      <td>unknown</td>\n",
       "      <td>no</td>\n",
       "    </tr>\n",
       "  </tbody>\n",
       "</table>\n",
       "</div>"
      ],
      "text/plain": [
       "   Age    Profession Marital_Status  education Default_Credit  Annual_Bankbal  \\\n",
       "0   58    management        married   tertiary             no            2143   \n",
       "1   44    technician         single  secondary             no              29   \n",
       "2   33  entrepreneur        married  secondary             no               2   \n",
       "3   47   blue-collar        married    unknown             no            1506   \n",
       "4   33       unknown         single    unknown             no               1   \n",
       "\n",
       "  Housing_Loan Private_Loan Contact_Medium  Last_Contact_Day  \\\n",
       "0          yes           no        unknown                 5   \n",
       "1          yes           no        unknown                 5   \n",
       "2          yes          yes        unknown                 5   \n",
       "3          yes           no        unknown                 5   \n",
       "4           no           no        unknown                 5   \n",
       "\n",
       "  Prior_Contact_Mos  Call_Duration  campaign  Previous_Idledays  \\\n",
       "0               may            261         1                 -1   \n",
       "1               may            151         1                 -1   \n",
       "2               may             76         1                 -1   \n",
       "3               may             92         1                 -1   \n",
       "4               may            198         1                 -1   \n",
       "\n",
       "   Prior_Contact_ct Prior_Outcome Latest_Outcome  \n",
       "0                 0       unknown             no  \n",
       "1                 0       unknown             no  \n",
       "2                 0       unknown             no  \n",
       "3                 0       unknown             no  \n",
       "4                 0       unknown             no  "
      ]
     },
     "execution_count": 19,
     "metadata": {},
     "output_type": "execute_result"
    }
   ],
   "source": [
    "df.rename(columns = {'age':'Age', 'job':'Profession', 'marital': 'Marital_Status', 'default': 'Default_Credit', 'balance':'Annual_Bankbal',\n",
    "                    'housing': 'Housing_Loan', 'loan':'Private_Loan', 'contact':'Contact_Medium', 'pdays':'Previous_Idledays', \n",
    "                    'previous':'Prior_Contact_ct', 'poutcome':'Prior_Outcome', 'y':'Latest_Outcome', 'duration':'Call_Duration', \n",
    "                    'month':'Prior_Contact_Mos', 'day':'Last_Contact_Day'}, inplace = True)\n",
    "\n",
    "df.head()"
   ]
  },
  {
   "cell_type": "code",
   "execution_count": 20,
   "id": "e2e321f6",
   "metadata": {},
   "outputs": [
    {
     "data": {
      "text/html": [
       "<div>\n",
       "<style scoped>\n",
       "    .dataframe tbody tr th:only-of-type {\n",
       "        vertical-align: middle;\n",
       "    }\n",
       "\n",
       "    .dataframe tbody tr th {\n",
       "        vertical-align: top;\n",
       "    }\n",
       "\n",
       "    .dataframe thead th {\n",
       "        text-align: right;\n",
       "    }\n",
       "</style>\n",
       "<table border=\"1\" class=\"dataframe\">\n",
       "  <thead>\n",
       "    <tr style=\"text-align: right;\">\n",
       "      <th></th>\n",
       "      <th>Age</th>\n",
       "      <th>Annual_Bankbal</th>\n",
       "      <th>Last_Contact_Day</th>\n",
       "      <th>Call_Duration</th>\n",
       "      <th>campaign</th>\n",
       "      <th>Previous_Idledays</th>\n",
       "      <th>Prior_Contact_ct</th>\n",
       "    </tr>\n",
       "  </thead>\n",
       "  <tbody>\n",
       "    <tr>\n",
       "      <th>count</th>\n",
       "      <td>45211.000000</td>\n",
       "      <td>45211.000000</td>\n",
       "      <td>45211.000000</td>\n",
       "      <td>45211.000000</td>\n",
       "      <td>45211.000000</td>\n",
       "      <td>45211.000000</td>\n",
       "      <td>45211.000000</td>\n",
       "    </tr>\n",
       "    <tr>\n",
       "      <th>mean</th>\n",
       "      <td>40.936210</td>\n",
       "      <td>1362.272058</td>\n",
       "      <td>15.806419</td>\n",
       "      <td>258.163080</td>\n",
       "      <td>2.763841</td>\n",
       "      <td>40.197828</td>\n",
       "      <td>0.580323</td>\n",
       "    </tr>\n",
       "    <tr>\n",
       "      <th>std</th>\n",
       "      <td>10.618762</td>\n",
       "      <td>3044.765829</td>\n",
       "      <td>8.322476</td>\n",
       "      <td>257.527812</td>\n",
       "      <td>3.098021</td>\n",
       "      <td>100.128746</td>\n",
       "      <td>2.303441</td>\n",
       "    </tr>\n",
       "    <tr>\n",
       "      <th>min</th>\n",
       "      <td>18.000000</td>\n",
       "      <td>-8019.000000</td>\n",
       "      <td>1.000000</td>\n",
       "      <td>0.000000</td>\n",
       "      <td>1.000000</td>\n",
       "      <td>-1.000000</td>\n",
       "      <td>0.000000</td>\n",
       "    </tr>\n",
       "    <tr>\n",
       "      <th>25%</th>\n",
       "      <td>33.000000</td>\n",
       "      <td>72.000000</td>\n",
       "      <td>8.000000</td>\n",
       "      <td>103.000000</td>\n",
       "      <td>1.000000</td>\n",
       "      <td>-1.000000</td>\n",
       "      <td>0.000000</td>\n",
       "    </tr>\n",
       "    <tr>\n",
       "      <th>50%</th>\n",
       "      <td>39.000000</td>\n",
       "      <td>448.000000</td>\n",
       "      <td>16.000000</td>\n",
       "      <td>180.000000</td>\n",
       "      <td>2.000000</td>\n",
       "      <td>-1.000000</td>\n",
       "      <td>0.000000</td>\n",
       "    </tr>\n",
       "    <tr>\n",
       "      <th>75%</th>\n",
       "      <td>48.000000</td>\n",
       "      <td>1428.000000</td>\n",
       "      <td>21.000000</td>\n",
       "      <td>319.000000</td>\n",
       "      <td>3.000000</td>\n",
       "      <td>-1.000000</td>\n",
       "      <td>0.000000</td>\n",
       "    </tr>\n",
       "    <tr>\n",
       "      <th>max</th>\n",
       "      <td>95.000000</td>\n",
       "      <td>102127.000000</td>\n",
       "      <td>31.000000</td>\n",
       "      <td>4918.000000</td>\n",
       "      <td>63.000000</td>\n",
       "      <td>871.000000</td>\n",
       "      <td>275.000000</td>\n",
       "    </tr>\n",
       "  </tbody>\n",
       "</table>\n",
       "</div>"
      ],
      "text/plain": [
       "                Age  Annual_Bankbal  Last_Contact_Day  Call_Duration  \\\n",
       "count  45211.000000    45211.000000      45211.000000   45211.000000   \n",
       "mean      40.936210     1362.272058         15.806419     258.163080   \n",
       "std       10.618762     3044.765829          8.322476     257.527812   \n",
       "min       18.000000    -8019.000000          1.000000       0.000000   \n",
       "25%       33.000000       72.000000          8.000000     103.000000   \n",
       "50%       39.000000      448.000000         16.000000     180.000000   \n",
       "75%       48.000000     1428.000000         21.000000     319.000000   \n",
       "max       95.000000   102127.000000         31.000000    4918.000000   \n",
       "\n",
       "           campaign  Previous_Idledays  Prior_Contact_ct  \n",
       "count  45211.000000       45211.000000      45211.000000  \n",
       "mean       2.763841          40.197828          0.580323  \n",
       "std        3.098021         100.128746          2.303441  \n",
       "min        1.000000          -1.000000          0.000000  \n",
       "25%        1.000000          -1.000000          0.000000  \n",
       "50%        2.000000          -1.000000          0.000000  \n",
       "75%        3.000000          -1.000000          0.000000  \n",
       "max       63.000000         871.000000        275.000000  "
      ]
     },
     "execution_count": 20,
     "metadata": {},
     "output_type": "execute_result"
    }
   ],
   "source": [
    "#We use this code block to better understand the numerical features of the dataset.\n",
    "df.describe()"
   ]
  },
  {
   "cell_type": "code",
   "execution_count": 21,
   "id": "20acec42",
   "metadata": {},
   "outputs": [],
   "source": [
    "#The 'unknown' values in Profession,education,Contact_Medium could be replaced with 'other' so the ambiguity of this value is resolved"
   ]
  },
  {
   "cell_type": "code",
   "execution_count": 22,
   "id": "477812de",
   "metadata": {},
   "outputs": [],
   "source": [
    "df[['Profession','education','Contact_Medium']] = df[['Profession','education','Contact_Medium']].replace(['unknown'],'other')"
   ]
  },
  {
   "cell_type": "code",
   "execution_count": 23,
   "id": "7834f019",
   "metadata": {},
   "outputs": [
    {
     "data": {
      "text/html": [
       "<div>\n",
       "<style scoped>\n",
       "    .dataframe tbody tr th:only-of-type {\n",
       "        vertical-align: middle;\n",
       "    }\n",
       "\n",
       "    .dataframe tbody tr th {\n",
       "        vertical-align: top;\n",
       "    }\n",
       "\n",
       "    .dataframe thead th {\n",
       "        text-align: right;\n",
       "    }\n",
       "</style>\n",
       "<table border=\"1\" class=\"dataframe\">\n",
       "  <thead>\n",
       "    <tr style=\"text-align: right;\">\n",
       "      <th></th>\n",
       "      <th>Age</th>\n",
       "      <th>Profession</th>\n",
       "      <th>Marital_Status</th>\n",
       "      <th>education</th>\n",
       "      <th>Default_Credit</th>\n",
       "      <th>Annual_Bankbal</th>\n",
       "      <th>Housing_Loan</th>\n",
       "      <th>Private_Loan</th>\n",
       "      <th>Contact_Medium</th>\n",
       "      <th>Last_Contact_Day</th>\n",
       "      <th>Prior_Contact_Mos</th>\n",
       "      <th>Call_Duration</th>\n",
       "      <th>campaign</th>\n",
       "      <th>Previous_Idledays</th>\n",
       "      <th>Prior_Contact_ct</th>\n",
       "      <th>Prior_Outcome</th>\n",
       "      <th>Latest_Outcome</th>\n",
       "    </tr>\n",
       "  </thead>\n",
       "  <tbody>\n",
       "    <tr>\n",
       "      <th>0</th>\n",
       "      <td>58</td>\n",
       "      <td>management</td>\n",
       "      <td>married</td>\n",
       "      <td>tertiary</td>\n",
       "      <td>no</td>\n",
       "      <td>2143</td>\n",
       "      <td>yes</td>\n",
       "      <td>no</td>\n",
       "      <td>other</td>\n",
       "      <td>5</td>\n",
       "      <td>may</td>\n",
       "      <td>261</td>\n",
       "      <td>1</td>\n",
       "      <td>-1</td>\n",
       "      <td>0</td>\n",
       "      <td>unknown</td>\n",
       "      <td>no</td>\n",
       "    </tr>\n",
       "    <tr>\n",
       "      <th>1</th>\n",
       "      <td>44</td>\n",
       "      <td>technician</td>\n",
       "      <td>single</td>\n",
       "      <td>secondary</td>\n",
       "      <td>no</td>\n",
       "      <td>29</td>\n",
       "      <td>yes</td>\n",
       "      <td>no</td>\n",
       "      <td>other</td>\n",
       "      <td>5</td>\n",
       "      <td>may</td>\n",
       "      <td>151</td>\n",
       "      <td>1</td>\n",
       "      <td>-1</td>\n",
       "      <td>0</td>\n",
       "      <td>unknown</td>\n",
       "      <td>no</td>\n",
       "    </tr>\n",
       "    <tr>\n",
       "      <th>2</th>\n",
       "      <td>33</td>\n",
       "      <td>entrepreneur</td>\n",
       "      <td>married</td>\n",
       "      <td>secondary</td>\n",
       "      <td>no</td>\n",
       "      <td>2</td>\n",
       "      <td>yes</td>\n",
       "      <td>yes</td>\n",
       "      <td>other</td>\n",
       "      <td>5</td>\n",
       "      <td>may</td>\n",
       "      <td>76</td>\n",
       "      <td>1</td>\n",
       "      <td>-1</td>\n",
       "      <td>0</td>\n",
       "      <td>unknown</td>\n",
       "      <td>no</td>\n",
       "    </tr>\n",
       "    <tr>\n",
       "      <th>3</th>\n",
       "      <td>47</td>\n",
       "      <td>blue-collar</td>\n",
       "      <td>married</td>\n",
       "      <td>other</td>\n",
       "      <td>no</td>\n",
       "      <td>1506</td>\n",
       "      <td>yes</td>\n",
       "      <td>no</td>\n",
       "      <td>other</td>\n",
       "      <td>5</td>\n",
       "      <td>may</td>\n",
       "      <td>92</td>\n",
       "      <td>1</td>\n",
       "      <td>-1</td>\n",
       "      <td>0</td>\n",
       "      <td>unknown</td>\n",
       "      <td>no</td>\n",
       "    </tr>\n",
       "    <tr>\n",
       "      <th>4</th>\n",
       "      <td>33</td>\n",
       "      <td>other</td>\n",
       "      <td>single</td>\n",
       "      <td>other</td>\n",
       "      <td>no</td>\n",
       "      <td>1</td>\n",
       "      <td>no</td>\n",
       "      <td>no</td>\n",
       "      <td>other</td>\n",
       "      <td>5</td>\n",
       "      <td>may</td>\n",
       "      <td>198</td>\n",
       "      <td>1</td>\n",
       "      <td>-1</td>\n",
       "      <td>0</td>\n",
       "      <td>unknown</td>\n",
       "      <td>no</td>\n",
       "    </tr>\n",
       "  </tbody>\n",
       "</table>\n",
       "</div>"
      ],
      "text/plain": [
       "   Age    Profession Marital_Status  education Default_Credit  Annual_Bankbal  \\\n",
       "0   58    management        married   tertiary             no            2143   \n",
       "1   44    technician         single  secondary             no              29   \n",
       "2   33  entrepreneur        married  secondary             no               2   \n",
       "3   47   blue-collar        married      other             no            1506   \n",
       "4   33         other         single      other             no               1   \n",
       "\n",
       "  Housing_Loan Private_Loan Contact_Medium  Last_Contact_Day  \\\n",
       "0          yes           no          other                 5   \n",
       "1          yes           no          other                 5   \n",
       "2          yes          yes          other                 5   \n",
       "3          yes           no          other                 5   \n",
       "4           no           no          other                 5   \n",
       "\n",
       "  Prior_Contact_Mos  Call_Duration  campaign  Previous_Idledays  \\\n",
       "0               may            261         1                 -1   \n",
       "1               may            151         1                 -1   \n",
       "2               may             76         1                 -1   \n",
       "3               may             92         1                 -1   \n",
       "4               may            198         1                 -1   \n",
       "\n",
       "   Prior_Contact_ct Prior_Outcome Latest_Outcome  \n",
       "0                 0       unknown             no  \n",
       "1                 0       unknown             no  \n",
       "2                 0       unknown             no  \n",
       "3                 0       unknown             no  \n",
       "4                 0       unknown             no  "
      ]
     },
     "execution_count": 23,
     "metadata": {},
     "output_type": "execute_result"
    }
   ],
   "source": [
    "df.head()"
   ]
  },
  {
   "cell_type": "code",
   "execution_count": 24,
   "id": "45a38ee5",
   "metadata": {},
   "outputs": [],
   "source": [
    "#We convert the latest_outcome values from yes, no to binary values 0,1 for easier analysis\n",
    "df['Latest_Outcome'] = df['Latest_Outcome'].apply(lambda a:0 if a=='no' else 1)"
   ]
  },
  {
   "cell_type": "code",
   "execution_count": 25,
   "id": "c81fe282",
   "metadata": {},
   "outputs": [
    {
     "data": {
      "text/html": [
       "<div>\n",
       "<style scoped>\n",
       "    .dataframe tbody tr th:only-of-type {\n",
       "        vertical-align: middle;\n",
       "    }\n",
       "\n",
       "    .dataframe tbody tr th {\n",
       "        vertical-align: top;\n",
       "    }\n",
       "\n",
       "    .dataframe thead th {\n",
       "        text-align: right;\n",
       "    }\n",
       "</style>\n",
       "<table border=\"1\" class=\"dataframe\">\n",
       "  <thead>\n",
       "    <tr style=\"text-align: right;\">\n",
       "      <th></th>\n",
       "      <th>Age</th>\n",
       "      <th>Profession</th>\n",
       "      <th>Marital_Status</th>\n",
       "      <th>education</th>\n",
       "      <th>Default_Credit</th>\n",
       "      <th>Annual_Bankbal</th>\n",
       "      <th>Housing_Loan</th>\n",
       "      <th>Private_Loan</th>\n",
       "      <th>Contact_Medium</th>\n",
       "      <th>Last_Contact_Day</th>\n",
       "      <th>Prior_Contact_Mos</th>\n",
       "      <th>Call_Duration</th>\n",
       "      <th>campaign</th>\n",
       "      <th>Previous_Idledays</th>\n",
       "      <th>Prior_Contact_ct</th>\n",
       "      <th>Prior_Outcome</th>\n",
       "      <th>Latest_Outcome</th>\n",
       "    </tr>\n",
       "  </thead>\n",
       "  <tbody>\n",
       "    <tr>\n",
       "      <th>0</th>\n",
       "      <td>58</td>\n",
       "      <td>management</td>\n",
       "      <td>married</td>\n",
       "      <td>tertiary</td>\n",
       "      <td>no</td>\n",
       "      <td>2143</td>\n",
       "      <td>yes</td>\n",
       "      <td>no</td>\n",
       "      <td>other</td>\n",
       "      <td>5</td>\n",
       "      <td>may</td>\n",
       "      <td>261</td>\n",
       "      <td>1</td>\n",
       "      <td>-1</td>\n",
       "      <td>0</td>\n",
       "      <td>unknown</td>\n",
       "      <td>0</td>\n",
       "    </tr>\n",
       "    <tr>\n",
       "      <th>1</th>\n",
       "      <td>44</td>\n",
       "      <td>technician</td>\n",
       "      <td>single</td>\n",
       "      <td>secondary</td>\n",
       "      <td>no</td>\n",
       "      <td>29</td>\n",
       "      <td>yes</td>\n",
       "      <td>no</td>\n",
       "      <td>other</td>\n",
       "      <td>5</td>\n",
       "      <td>may</td>\n",
       "      <td>151</td>\n",
       "      <td>1</td>\n",
       "      <td>-1</td>\n",
       "      <td>0</td>\n",
       "      <td>unknown</td>\n",
       "      <td>0</td>\n",
       "    </tr>\n",
       "    <tr>\n",
       "      <th>2</th>\n",
       "      <td>33</td>\n",
       "      <td>entrepreneur</td>\n",
       "      <td>married</td>\n",
       "      <td>secondary</td>\n",
       "      <td>no</td>\n",
       "      <td>2</td>\n",
       "      <td>yes</td>\n",
       "      <td>yes</td>\n",
       "      <td>other</td>\n",
       "      <td>5</td>\n",
       "      <td>may</td>\n",
       "      <td>76</td>\n",
       "      <td>1</td>\n",
       "      <td>-1</td>\n",
       "      <td>0</td>\n",
       "      <td>unknown</td>\n",
       "      <td>0</td>\n",
       "    </tr>\n",
       "    <tr>\n",
       "      <th>3</th>\n",
       "      <td>47</td>\n",
       "      <td>blue-collar</td>\n",
       "      <td>married</td>\n",
       "      <td>other</td>\n",
       "      <td>no</td>\n",
       "      <td>1506</td>\n",
       "      <td>yes</td>\n",
       "      <td>no</td>\n",
       "      <td>other</td>\n",
       "      <td>5</td>\n",
       "      <td>may</td>\n",
       "      <td>92</td>\n",
       "      <td>1</td>\n",
       "      <td>-1</td>\n",
       "      <td>0</td>\n",
       "      <td>unknown</td>\n",
       "      <td>0</td>\n",
       "    </tr>\n",
       "    <tr>\n",
       "      <th>4</th>\n",
       "      <td>33</td>\n",
       "      <td>other</td>\n",
       "      <td>single</td>\n",
       "      <td>other</td>\n",
       "      <td>no</td>\n",
       "      <td>1</td>\n",
       "      <td>no</td>\n",
       "      <td>no</td>\n",
       "      <td>other</td>\n",
       "      <td>5</td>\n",
       "      <td>may</td>\n",
       "      <td>198</td>\n",
       "      <td>1</td>\n",
       "      <td>-1</td>\n",
       "      <td>0</td>\n",
       "      <td>unknown</td>\n",
       "      <td>0</td>\n",
       "    </tr>\n",
       "  </tbody>\n",
       "</table>\n",
       "</div>"
      ],
      "text/plain": [
       "   Age    Profession Marital_Status  education Default_Credit  Annual_Bankbal  \\\n",
       "0   58    management        married   tertiary             no            2143   \n",
       "1   44    technician         single  secondary             no              29   \n",
       "2   33  entrepreneur        married  secondary             no               2   \n",
       "3   47   blue-collar        married      other             no            1506   \n",
       "4   33         other         single      other             no               1   \n",
       "\n",
       "  Housing_Loan Private_Loan Contact_Medium  Last_Contact_Day  \\\n",
       "0          yes           no          other                 5   \n",
       "1          yes           no          other                 5   \n",
       "2          yes          yes          other                 5   \n",
       "3          yes           no          other                 5   \n",
       "4           no           no          other                 5   \n",
       "\n",
       "  Prior_Contact_Mos  Call_Duration  campaign  Previous_Idledays  \\\n",
       "0               may            261         1                 -1   \n",
       "1               may            151         1                 -1   \n",
       "2               may             76         1                 -1   \n",
       "3               may             92         1                 -1   \n",
       "4               may            198         1                 -1   \n",
       "\n",
       "   Prior_Contact_ct Prior_Outcome  Latest_Outcome  \n",
       "0                 0       unknown               0  \n",
       "1                 0       unknown               0  \n",
       "2                 0       unknown               0  \n",
       "3                 0       unknown               0  \n",
       "4                 0       unknown               0  "
      ]
     },
     "execution_count": 25,
     "metadata": {},
     "output_type": "execute_result"
    }
   ],
   "source": [
    "df.head()"
   ]
  },
  {
   "cell_type": "code",
   "execution_count": 26,
   "id": "78afbebe",
   "metadata": {},
   "outputs": [],
   "source": [
    "#We can also convert the months in categorical order to numerical order for easier analyses.\n",
    "\n",
    "df['Prior_Contact_Mos'].replace(['jan','feb','mar','apr','may','jun','jul','aug','sep','oct','nov','dec'],\n",
    "                                [1,2,3,4,5,6,7,8,9,10,11,12], inplace = True)"
   ]
  },
  {
   "cell_type": "code",
   "execution_count": 27,
   "id": "33fc63aa",
   "metadata": {},
   "outputs": [
    {
     "data": {
      "text/html": [
       "<div>\n",
       "<style scoped>\n",
       "    .dataframe tbody tr th:only-of-type {\n",
       "        vertical-align: middle;\n",
       "    }\n",
       "\n",
       "    .dataframe tbody tr th {\n",
       "        vertical-align: top;\n",
       "    }\n",
       "\n",
       "    .dataframe thead th {\n",
       "        text-align: right;\n",
       "    }\n",
       "</style>\n",
       "<table border=\"1\" class=\"dataframe\">\n",
       "  <thead>\n",
       "    <tr style=\"text-align: right;\">\n",
       "      <th></th>\n",
       "      <th>Age</th>\n",
       "      <th>Profession</th>\n",
       "      <th>Marital_Status</th>\n",
       "      <th>education</th>\n",
       "      <th>Default_Credit</th>\n",
       "      <th>Annual_Bankbal</th>\n",
       "      <th>Housing_Loan</th>\n",
       "      <th>Private_Loan</th>\n",
       "      <th>Contact_Medium</th>\n",
       "      <th>Last_Contact_Day</th>\n",
       "      <th>Prior_Contact_Mos</th>\n",
       "      <th>Call_Duration</th>\n",
       "      <th>campaign</th>\n",
       "      <th>Previous_Idledays</th>\n",
       "      <th>Prior_Contact_ct</th>\n",
       "      <th>Prior_Outcome</th>\n",
       "      <th>Latest_Outcome</th>\n",
       "    </tr>\n",
       "  </thead>\n",
       "  <tbody>\n",
       "    <tr>\n",
       "      <th>0</th>\n",
       "      <td>58</td>\n",
       "      <td>management</td>\n",
       "      <td>married</td>\n",
       "      <td>tertiary</td>\n",
       "      <td>no</td>\n",
       "      <td>2143</td>\n",
       "      <td>yes</td>\n",
       "      <td>no</td>\n",
       "      <td>other</td>\n",
       "      <td>5</td>\n",
       "      <td>5</td>\n",
       "      <td>261</td>\n",
       "      <td>1</td>\n",
       "      <td>-1</td>\n",
       "      <td>0</td>\n",
       "      <td>unknown</td>\n",
       "      <td>0</td>\n",
       "    </tr>\n",
       "    <tr>\n",
       "      <th>1</th>\n",
       "      <td>44</td>\n",
       "      <td>technician</td>\n",
       "      <td>single</td>\n",
       "      <td>secondary</td>\n",
       "      <td>no</td>\n",
       "      <td>29</td>\n",
       "      <td>yes</td>\n",
       "      <td>no</td>\n",
       "      <td>other</td>\n",
       "      <td>5</td>\n",
       "      <td>5</td>\n",
       "      <td>151</td>\n",
       "      <td>1</td>\n",
       "      <td>-1</td>\n",
       "      <td>0</td>\n",
       "      <td>unknown</td>\n",
       "      <td>0</td>\n",
       "    </tr>\n",
       "    <tr>\n",
       "      <th>2</th>\n",
       "      <td>33</td>\n",
       "      <td>entrepreneur</td>\n",
       "      <td>married</td>\n",
       "      <td>secondary</td>\n",
       "      <td>no</td>\n",
       "      <td>2</td>\n",
       "      <td>yes</td>\n",
       "      <td>yes</td>\n",
       "      <td>other</td>\n",
       "      <td>5</td>\n",
       "      <td>5</td>\n",
       "      <td>76</td>\n",
       "      <td>1</td>\n",
       "      <td>-1</td>\n",
       "      <td>0</td>\n",
       "      <td>unknown</td>\n",
       "      <td>0</td>\n",
       "    </tr>\n",
       "    <tr>\n",
       "      <th>3</th>\n",
       "      <td>47</td>\n",
       "      <td>blue-collar</td>\n",
       "      <td>married</td>\n",
       "      <td>other</td>\n",
       "      <td>no</td>\n",
       "      <td>1506</td>\n",
       "      <td>yes</td>\n",
       "      <td>no</td>\n",
       "      <td>other</td>\n",
       "      <td>5</td>\n",
       "      <td>5</td>\n",
       "      <td>92</td>\n",
       "      <td>1</td>\n",
       "      <td>-1</td>\n",
       "      <td>0</td>\n",
       "      <td>unknown</td>\n",
       "      <td>0</td>\n",
       "    </tr>\n",
       "    <tr>\n",
       "      <th>4</th>\n",
       "      <td>33</td>\n",
       "      <td>other</td>\n",
       "      <td>single</td>\n",
       "      <td>other</td>\n",
       "      <td>no</td>\n",
       "      <td>1</td>\n",
       "      <td>no</td>\n",
       "      <td>no</td>\n",
       "      <td>other</td>\n",
       "      <td>5</td>\n",
       "      <td>5</td>\n",
       "      <td>198</td>\n",
       "      <td>1</td>\n",
       "      <td>-1</td>\n",
       "      <td>0</td>\n",
       "      <td>unknown</td>\n",
       "      <td>0</td>\n",
       "    </tr>\n",
       "  </tbody>\n",
       "</table>\n",
       "</div>"
      ],
      "text/plain": [
       "   Age    Profession Marital_Status  education Default_Credit  Annual_Bankbal  \\\n",
       "0   58    management        married   tertiary             no            2143   \n",
       "1   44    technician         single  secondary             no              29   \n",
       "2   33  entrepreneur        married  secondary             no               2   \n",
       "3   47   blue-collar        married      other             no            1506   \n",
       "4   33         other         single      other             no               1   \n",
       "\n",
       "  Housing_Loan Private_Loan Contact_Medium  Last_Contact_Day  \\\n",
       "0          yes           no          other                 5   \n",
       "1          yes           no          other                 5   \n",
       "2          yes          yes          other                 5   \n",
       "3          yes           no          other                 5   \n",
       "4           no           no          other                 5   \n",
       "\n",
       "   Prior_Contact_Mos  Call_Duration  campaign  Previous_Idledays  \\\n",
       "0                  5            261         1                 -1   \n",
       "1                  5            151         1                 -1   \n",
       "2                  5             76         1                 -1   \n",
       "3                  5             92         1                 -1   \n",
       "4                  5            198         1                 -1   \n",
       "\n",
       "   Prior_Contact_ct Prior_Outcome  Latest_Outcome  \n",
       "0                 0       unknown               0  \n",
       "1                 0       unknown               0  \n",
       "2                 0       unknown               0  \n",
       "3                 0       unknown               0  \n",
       "4                 0       unknown               0  "
      ]
     },
     "execution_count": 27,
     "metadata": {},
     "output_type": "execute_result"
    }
   ],
   "source": [
    "df.head()"
   ]
  },
  {
   "cell_type": "code",
   "execution_count": 28,
   "id": "2e9c7e02",
   "metadata": {},
   "outputs": [
    {
     "name": "stdout",
     "output_type": "stream",
     "text": [
      "<class 'pandas.core.frame.DataFrame'>\n",
      "RangeIndex: 45211 entries, 0 to 45210\n",
      "Data columns (total 17 columns):\n",
      " #   Column             Non-Null Count  Dtype \n",
      "---  ------             --------------  ----- \n",
      " 0   Age                45211 non-null  int64 \n",
      " 1   Profession         45211 non-null  object\n",
      " 2   Marital_Status     45211 non-null  object\n",
      " 3   education          45211 non-null  object\n",
      " 4   Default_Credit     45211 non-null  object\n",
      " 5   Annual_Bankbal     45211 non-null  int64 \n",
      " 6   Housing_Loan       45211 non-null  object\n",
      " 7   Private_Loan       45211 non-null  object\n",
      " 8   Contact_Medium     45211 non-null  object\n",
      " 9   Last_Contact_Day   45211 non-null  int64 \n",
      " 10  Prior_Contact_Mos  45211 non-null  int64 \n",
      " 11  Call_Duration      45211 non-null  int64 \n",
      " 12  campaign           45211 non-null  int64 \n",
      " 13  Previous_Idledays  45211 non-null  int64 \n",
      " 14  Prior_Contact_ct   45211 non-null  int64 \n",
      " 15  Prior_Outcome      45211 non-null  object\n",
      " 16  Latest_Outcome     45211 non-null  int64 \n",
      "dtypes: int64(9), object(8)\n",
      "memory usage: 5.9+ MB\n"
     ]
    }
   ],
   "source": [
    "df.info()\n",
    "#The datat type for Previous_Contact_Mos has now changed to int"
   ]
  },
  {
   "cell_type": "code",
   "execution_count": 29,
   "id": "cb9c913d",
   "metadata": {},
   "outputs": [
    {
     "data": {
      "text/plain": [
       "<AxesSubplot:>"
      ]
     },
     "execution_count": 29,
     "metadata": {},
     "output_type": "execute_result"
    },
    {
     "data": {
      "image/png": "[encoded data removed]",
      "text/plain": [
       "<Figure size 1296x504 with 1 Axes>"
      ]
     },
     "metadata": {
      "needs_background": "light"
     },
     "output_type": "display_data"
    }
   ],
   "source": [
    "#Outlier Detection\n",
    "df.boxplot(figsize=(18,7))"
   ]
  },
  {
   "cell_type": "code",
   "execution_count": 30,
   "id": "2949b08b",
   "metadata": {},
   "outputs": [
    {
     "name": "stdout",
     "output_type": "stream",
     "text": [
      "0        0.256419\n",
      "1        0.437895\n",
      "2        0.446762\n",
      "3        0.047205\n",
      "4        0.447091\n",
      "           ...   \n",
      "45206    0.176460\n",
      "45207    0.120447\n",
      "45208    1.429593\n",
      "45209    0.228024\n",
      "45210    0.528364\n",
      "Name: Annual_Bankbal, Length: 45211, dtype: float64\n"
     ]
    }
   ],
   "source": [
    "#From here we can infer that Annual_bankbal has outliers present in it.\n",
    "#We used the method of zscore to detect the arrays which have outliers in Annual_Bankbal\n",
    "#Explain the theory behind z-score a bit in the report from google(could refer to geeksfromgeeks)\n",
    "from scipy import stats\n",
    "z = np.abs(stats.zscore(df['Annual_Bankbal']))\n",
    "print(z)"
   ]
  },
  {
   "cell_type": "code",
   "execution_count": 31,
   "id": "15e17de8",
   "metadata": {},
   "outputs": [
    {
     "name": "stdout",
     "output_type": "stream",
     "text": [
      "(array([   34,    69,   334,   446,   920,  2065,  2343,  2479,  2554,\n",
      "        2576,  2618,  2619,  2778,  2852,  2899,  2931,  2938,  3012,\n",
      "        3024,  3099,  3197,  3327,  3500,  3806,  3851,  4025,  4081,\n",
      "        4135,  4150,  4483,  4583,  4625,  4846,  4851,  4954,  4958,\n",
      "        4965,  4975,  5007,  5133,  5249,  5279,  5302,  5306,  5309,\n",
      "        5464,  5613,  5725,  5937,  6342,  6429,  6431,  6529,  6619,\n",
      "        6779,  6825,  6876,  7014,  7079,  7156,  7169,  7198,  7200,\n",
      "        7229,  7334,  7362,  7534,  7563,  7627,  7674,  7681,  7743,\n",
      "        7782,  7822,  7865,  7991,  8008,  8184,  8196,  8244,  8335,\n",
      "        8349,  8377,  8433,  8472,  8479,  8534,  8555,  8588,  8634,\n",
      "        8700,  8724,  8828,  8854,  9047,  9068,  9079,  9117,  9162,\n",
      "        9178,  9239,  9312,  9421,  9425,  9461,  9472,  9536,  9552,\n",
      "        9564,  9576,  9598,  9625,  9778,  9793,  9803,  9809,  9822,\n",
      "        9895,  9933, 10038, 10059, 10061, 10062, 10107, 10173, 10180,\n",
      "       10260, 10262, 10421, 10424, 10497, 10568, 10598, 10606, 10650,\n",
      "       10670, 10749, 10841, 10974, 10992, 11141, 11171, 11187, 11214,\n",
      "       11230, 11307, 11312, 11340, 11361, 11411, 11513, 11714, 11758,\n",
      "       11773, 11808, 11883, 11909, 11925, 11956, 12099, 12121, 12140,\n",
      "       12150, 12244, 12281, 12759, 12837, 12909, 12926, 13095, 13154,\n",
      "       13193, 13488, 13865, 14013, 14816, 14852, 14963, 14993, 15076,\n",
      "       15511, 15869, 16289, 16312, 16347, 16537, 16880, 16883, 17130,\n",
      "       17213, 17457, 17714, 17841, 17867, 17892, 17934, 17961, 18060,\n",
      "       18114, 18256, 18259, 18360, 18361, 18702, 18797, 18874, 18915,\n",
      "       18955, 19011, 19014, 19064, 19072, 19123, 19126, 19160, 19278,\n",
      "       19282, 19304, 19399, 19410, 19420, 19462, 19581, 19600, 19688,\n",
      "       19689, 19785, 19795, 19859, 19877, 19880, 19966, 20035, 20127,\n",
      "       20177, 20233, 20268, 20308, 20378, 20391, 20485, 20503, 20527,\n",
      "       20549, 20646, 20696, 20737, 20740, 20743, 20853, 20914, 20921,\n",
      "       20975, 20985, 21150, 21156, 21192, 21249, 21335, 21346, 21364,\n",
      "       21379, 21386, 21397, 21440, 21496, 21502, 21617, 21746, 21953,\n",
      "       22054, 22056, 22091, 22136, 22321, 22323, 22424, 22472, 22564,\n",
      "       22645, 22752, 22765, 22849, 22852, 22926, 22988, 23112, 23554,\n",
      "       23795, 24032, 24047, 24053, 24069, 24081, 24094, 24137, 24303,\n",
      "       24351, 24356, 24380, 24435, 24465, 24471, 24529, 24535, 24568,\n",
      "       24579, 24618, 24639, 24755, 24766, 24776, 24839, 24847, 24908,\n",
      "       24963, 24997, 25002, 25011, 25035, 25038, 25064, 25067, 25084,\n",
      "       25121, 25168, 25195, 25204, 25286, 25311, 25324, 25336, 25385,\n",
      "       25453, 25487, 25530, 25547, 25558, 25559, 25568, 25663, 25709,\n",
      "       25747, 25778, 25782, 25819, 25832, 25855, 25886, 25888, 25905,\n",
      "       25948, 25988, 25993, 26013, 26030, 26033, 26064, 26081, 26089,\n",
      "       26139, 26181, 26184, 26189, 26196, 26219, 26227, 26235, 26274,\n",
      "       26277, 26289, 26317, 26329, 26360, 26363, 26393, 26403, 26426,\n",
      "       26461, 26467, 26478, 26487, 26489, 26492, 26500, 26503, 26536,\n",
      "       26560, 26587, 26591, 26594, 26608, 26644, 26650, 26661, 26665,\n",
      "       26729, 26745, 26752, 26762, 26779, 26782, 26838, 26885, 26901,\n",
      "       26919, 26926, 26964, 26981, 26985, 27049, 27067, 27083, 27090,\n",
      "       27097, 27099, 27104, 27130, 27143, 27146, 27154, 27159, 27160,\n",
      "       27164, 27249, 27256, 27258, 27272, 27283, 27286, 27303, 27316,\n",
      "       27318, 27327, 27343, 27386, 27390, 27395, 27409, 27430, 27436,\n",
      "       27461, 27463, 27465, 27469, 27479, 27550, 27583, 27602, 27606,\n",
      "       27610, 27615, 27654, 28262, 28387, 28430, 28861, 28877, 29293,\n",
      "       29324, 29393, 29446, 29512, 29521, 29533, 29619, 29629, 29675,\n",
      "       29866, 29982, 30099, 30183, 30205, 30252, 30287, 30309, 30312,\n",
      "       30385, 30496, 30617, 30789, 30811, 30903, 30976, 31000, 31037,\n",
      "       31039, 31055, 31060, 31124, 31133, 31222, 31343, 31394, 31490,\n",
      "       31495, 31630, 31633, 31696, 31740, 31771, 31782, 31790, 31794,\n",
      "       31860, 32013, 32025, 32027, 32129, 32133, 32161, 32183, 32210,\n",
      "       32242, 32589, 32977, 33061, 33078, 33089, 33105, 33173, 33245,\n",
      "       33270, 33487, 33491, 33573, 33592, 33703, 33849, 33915, 33926,\n",
      "       34016, 34092, 34154, 34162, 34170, 34217, 34259, 34286, 34341,\n",
      "       34346, 34364, 34384, 34424, 34576, 34801, 34858, 34914, 35282,\n",
      "       35297, 35315, 35516, 35524, 35605, 36149, 36435, 36529, 36586,\n",
      "       36774, 36799, 36931, 36950, 37001, 37091, 37404, 37545, 37607,\n",
      "       37667, 37669, 37800, 37927, 38017, 38199, 38354, 38654, 38678,\n",
      "       38693, 38697, 38701, 38849, 38917, 38992, 39096, 39373, 39469,\n",
      "       39492, 39526, 39535, 39562, 39582, 39583, 39594, 39607, 39648,\n",
      "       39649, 39711, 39721, 39829, 39837, 39896, 39924, 39932, 39961,\n",
      "       39989, 40013, 40027, 40068, 40224, 40240, 40278, 40305, 40355,\n",
      "       40400, 40425, 40434, 40462, 40466, 40475, 40486, 40571, 40590,\n",
      "       40619, 40622, 40689, 40738, 40750, 40751, 40763, 40777, 40789,\n",
      "       40864, 40875, 40878, 41014, 41037, 41039, 41075, 41081, 41092,\n",
      "       41102, 41131, 41169, 41176, 41189, 41243, 41254, 41270, 41287,\n",
      "       41340, 41374, 41382, 41434, 41515, 41518, 41537, 41543, 41595,\n",
      "       41617, 41641, 41662, 41676, 41685, 41693, 41722, 41747, 41797,\n",
      "       41818, 41883, 41895, 41922, 41954, 41956, 41958, 42017, 42021,\n",
      "       42039, 42161, 42171, 42175, 42195, 42350, 42379, 42394, 42413,\n",
      "       42465, 42540, 42548, 42558, 42571, 42590, 42672, 42717, 42799,\n",
      "       42832, 42963, 42971, 42990, 43016, 43019, 43053, 43078, 43108,\n",
      "       43142, 43210, 43218, 43290, 43295, 43304, 43356, 43393, 43406,\n",
      "       43421, 43435, 43447, 43465, 43517, 43531, 43576, 43583, 43672,\n",
      "       43790, 43945, 43953, 44015, 44050, 44056, 44232, 44269, 44295,\n",
      "       44335, 44350, 44438, 44521, 44678, 44709, 44787, 44861, 44874,\n",
      "       44972, 45019, 45075, 45097, 45098, 45118, 45127], dtype=int64),)\n"
     ]
    }
   ],
   "source": [
    "print((np.where(z > 3)))"
   ]
  },
  {
   "cell_type": "code",
   "execution_count": 32,
   "id": "c3a10dcc",
   "metadata": {},
   "outputs": [],
   "source": [
    "#EDA"
   ]
  },
  {
   "cell_type": "code",
   "execution_count": 33,
   "id": "58749312",
   "metadata": {},
   "outputs": [
    {
     "data": {
      "text/plain": [
       "<AxesSubplot:xlabel='Age', ylabel='Annual_Bankbal'>"
      ]
     },
     "execution_count": 33,
     "metadata": {},
     "output_type": "execute_result"
    },
    {
     "data": {
      "image/png": "[encoded data removed]",
      "text/plain": [
       "<Figure size 432x288 with 1 Axes>"
      ]
     },
     "metadata": {
      "needs_background": "light"
     },
     "output_type": "display_data"
    }
   ],
   "source": [
    "df.plot.scatter(x='Age', y='Annual_Bankbal')"
   ]
  },
  {
   "cell_type": "code",
   "execution_count": 34,
   "id": "04176b4c",
   "metadata": {},
   "outputs": [
    {
     "data": {
      "text/plain": [
       "<AxesSubplot:>"
      ]
     },
     "execution_count": 34,
     "metadata": {},
     "output_type": "execute_result"
    },
    {
     "data": {
      "image/png": "[encoded data removed]",
      "text/plain": [
       "<Figure size 432x288 with 1 Axes>"
      ]
     },
     "metadata": {
      "needs_background": "light"
     },
     "output_type": "display_data"
    }
   ],
   "source": [
    "df[\"Age\"].hist()"
   ]
  },
  {
   "cell_type": "code",
   "execution_count": 35,
   "id": "651f0d79",
   "metadata": {},
   "outputs": [
    {
     "name": "stderr",
     "output_type": "stream",
     "text": [
      "C:\\Users\\Mitali\\anaconda3\\lib\\site-packages\\seaborn\\_decorators.py:36: FutureWarning: Pass the following variable as a keyword arg: x. From version 0.12, the only valid positional argument will be `data`, and passing other arguments without an explicit keyword will result in an error or misinterpretation.\n",
      "  warnings.warn(\n"
     ]
    },
    {
     "data": {
      "text/plain": [
       "<AxesSubplot:xlabel='Profession', ylabel='count'>"
      ]
     },
     "execution_count": 35,
     "metadata": {},
     "output_type": "execute_result"
    },
    {
     "data": {
      "image/png": "[encoded data removed]",
      "text/plain": [
       "<Figure size 1296x504 with 1 Axes>"
      ]
     },
     "metadata": {
      "needs_background": "light"
     },
     "output_type": "display_data"
    }
   ],
   "source": [
    "plt.figure(figsize = (18,7))\n",
    "sns.countplot(df[\"Profession\"])"
   ]
  },
  {
   "cell_type": "code",
   "execution_count": 36,
   "id": "16760613",
   "metadata": {},
   "outputs": [
    {
     "data": {
      "image/png": "[encoded data removed]",
      "text/plain": [
       "<Figure size 1080x576 with 1 Axes>"
      ]
     },
     "metadata": {
      "needs_background": "light"
     },
     "output_type": "display_data"
    }
   ],
   "source": [
    "\n",
    "plt.figure(figsize=(15,8))\n",
    "plt.scatter(df.Profession,df.Annual_Bankbal)\n",
    "plt.show()"
   ]
  },
  {
   "cell_type": "code",
   "execution_count": 37,
   "id": "8fa5715f",
   "metadata": {},
   "outputs": [
    {
     "data": {
      "text/html": [
       "<div>\n",
       "<style scoped>\n",
       "    .dataframe tbody tr th:only-of-type {\n",
       "        vertical-align: middle;\n",
       "    }\n",
       "\n",
       "    .dataframe tbody tr th {\n",
       "        vertical-align: top;\n",
       "    }\n",
       "\n",
       "    .dataframe thead th {\n",
       "        text-align: right;\n",
       "    }\n",
       "</style>\n",
       "<table border=\"1\" class=\"dataframe\">\n",
       "  <thead>\n",
       "    <tr style=\"text-align: right;\">\n",
       "      <th></th>\n",
       "      <th>Age</th>\n",
       "      <th>Annual_Bankbal</th>\n",
       "      <th>Last_Contact_Day</th>\n",
       "      <th>Prior_Contact_Mos</th>\n",
       "      <th>Call_Duration</th>\n",
       "      <th>campaign</th>\n",
       "      <th>Previous_Idledays</th>\n",
       "      <th>Prior_Contact_ct</th>\n",
       "      <th>Latest_Outcome</th>\n",
       "    </tr>\n",
       "  </thead>\n",
       "  <tbody>\n",
       "    <tr>\n",
       "      <th>Age</th>\n",
       "      <td>1.000000</td>\n",
       "      <td>0.097783</td>\n",
       "      <td>-0.009120</td>\n",
       "      <td>0.092903</td>\n",
       "      <td>-0.004648</td>\n",
       "      <td>0.004760</td>\n",
       "      <td>-0.023758</td>\n",
       "      <td>0.001288</td>\n",
       "      <td>0.025155</td>\n",
       "    </tr>\n",
       "    <tr>\n",
       "      <th>Annual_Bankbal</th>\n",
       "      <td>0.097783</td>\n",
       "      <td>1.000000</td>\n",
       "      <td>0.004503</td>\n",
       "      <td>0.094605</td>\n",
       "      <td>0.021560</td>\n",
       "      <td>-0.014578</td>\n",
       "      <td>0.003435</td>\n",
       "      <td>0.016674</td>\n",
       "      <td>0.052838</td>\n",
       "    </tr>\n",
       "    <tr>\n",
       "      <th>Last_Contact_Day</th>\n",
       "      <td>-0.009120</td>\n",
       "      <td>0.004503</td>\n",
       "      <td>1.000000</td>\n",
       "      <td>0.101989</td>\n",
       "      <td>-0.030206</td>\n",
       "      <td>0.162490</td>\n",
       "      <td>-0.093044</td>\n",
       "      <td>-0.051710</td>\n",
       "      <td>-0.028348</td>\n",
       "    </tr>\n",
       "    <tr>\n",
       "      <th>Prior_Contact_Mos</th>\n",
       "      <td>0.092903</td>\n",
       "      <td>0.094605</td>\n",
       "      <td>0.101989</td>\n",
       "      <td>1.000000</td>\n",
       "      <td>-0.011866</td>\n",
       "      <td>0.054868</td>\n",
       "      <td>-0.108940</td>\n",
       "      <td>-0.035600</td>\n",
       "      <td>0.018717</td>\n",
       "    </tr>\n",
       "    <tr>\n",
       "      <th>Call_Duration</th>\n",
       "      <td>-0.004648</td>\n",
       "      <td>0.021560</td>\n",
       "      <td>-0.030206</td>\n",
       "      <td>-0.011866</td>\n",
       "      <td>1.000000</td>\n",
       "      <td>-0.084570</td>\n",
       "      <td>-0.001565</td>\n",
       "      <td>0.001203</td>\n",
       "      <td>0.394521</td>\n",
       "    </tr>\n",
       "    <tr>\n",
       "      <th>campaign</th>\n",
       "      <td>0.004760</td>\n",
       "      <td>-0.014578</td>\n",
       "      <td>0.162490</td>\n",
       "      <td>0.054868</td>\n",
       "      <td>-0.084570</td>\n",
       "      <td>1.000000</td>\n",
       "      <td>-0.088628</td>\n",
       "      <td>-0.032855</td>\n",
       "      <td>-0.073172</td>\n",
       "    </tr>\n",
       "    <tr>\n",
       "      <th>Previous_Idledays</th>\n",
       "      <td>-0.023758</td>\n",
       "      <td>0.003435</td>\n",
       "      <td>-0.093044</td>\n",
       "      <td>-0.108940</td>\n",
       "      <td>-0.001565</td>\n",
       "      <td>-0.088628</td>\n",
       "      <td>1.000000</td>\n",
       "      <td>0.454820</td>\n",
       "      <td>0.103621</td>\n",
       "    </tr>\n",
       "    <tr>\n",
       "      <th>Prior_Contact_ct</th>\n",
       "      <td>0.001288</td>\n",
       "      <td>0.016674</td>\n",
       "      <td>-0.051710</td>\n",
       "      <td>-0.035600</td>\n",
       "      <td>0.001203</td>\n",
       "      <td>-0.032855</td>\n",
       "      <td>0.454820</td>\n",
       "      <td>1.000000</td>\n",
       "      <td>0.093236</td>\n",
       "    </tr>\n",
       "    <tr>\n",
       "      <th>Latest_Outcome</th>\n",
       "      <td>0.025155</td>\n",
       "      <td>0.052838</td>\n",
       "      <td>-0.028348</td>\n",
       "      <td>0.018717</td>\n",
       "      <td>0.394521</td>\n",
       "      <td>-0.073172</td>\n",
       "      <td>0.103621</td>\n",
       "      <td>0.093236</td>\n",
       "      <td>1.000000</td>\n",
       "    </tr>\n",
       "  </tbody>\n",
       "</table>\n",
       "</div>"
      ],
      "text/plain": [
       "                        Age  Annual_Bankbal  Last_Contact_Day  \\\n",
       "Age                1.000000        0.097783         -0.009120   \n",
       "Annual_Bankbal     0.097783        1.000000          0.004503   \n",
       "Last_Contact_Day  -0.009120        0.004503          1.000000   \n",
       "Prior_Contact_Mos  0.092903        0.094605          0.101989   \n",
       "Call_Duration     -0.004648        0.021560         -0.030206   \n",
       "campaign           0.004760       -0.014578          0.162490   \n",
       "Previous_Idledays -0.023758        0.003435         -0.093044   \n",
       "Prior_Contact_ct   0.001288        0.016674         -0.051710   \n",
       "Latest_Outcome     0.025155        0.052838         -0.028348   \n",
       "\n",
       "                   Prior_Contact_Mos  Call_Duration  campaign  \\\n",
       "Age                         0.092903      -0.004648  0.004760   \n",
       "Annual_Bankbal              0.094605       0.021560 -0.014578   \n",
       "Last_Contact_Day            0.101989      -0.030206  0.162490   \n",
       "Prior_Contact_Mos           1.000000      -0.011866  0.054868   \n",
       "Call_Duration              -0.011866       1.000000 -0.084570   \n",
       "campaign                    0.054868      -0.084570  1.000000   \n",
       "Previous_Idledays          -0.108940      -0.001565 -0.088628   \n",
       "Prior_Contact_ct           -0.035600       0.001203 -0.032855   \n",
       "Latest_Outcome              0.018717       0.394521 -0.073172   \n",
       "\n",
       "                   Previous_Idledays  Prior_Contact_ct  Latest_Outcome  \n",
       "Age                        -0.023758          0.001288        0.025155  \n",
       "Annual_Bankbal              0.003435          0.016674        0.052838  \n",
       "Last_Contact_Day           -0.093044         -0.051710       -0.028348  \n",
       "Prior_Contact_Mos          -0.108940         -0.035600        0.018717  \n",
       "Call_Duration              -0.001565          0.001203        0.394521  \n",
       "campaign                   -0.088628         -0.032855       -0.073172  \n",
       "Previous_Idledays           1.000000          0.454820        0.103621  \n",
       "Prior_Contact_ct            0.454820          1.000000        0.093236  \n",
       "Latest_Outcome              0.103621          0.093236        1.000000  "
      ]
     },
     "execution_count": 37,
     "metadata": {},
     "output_type": "execute_result"
    }
   ],
   "source": [
    "df.corr()"
   ]
  },
  {
   "cell_type": "code",
   "execution_count": 38,
   "id": "4c28b5d6",
   "metadata": {},
   "outputs": [
    {
     "data": {
      "text/plain": [
       "<AxesSubplot:>"
      ]
     },
     "execution_count": 38,
     "metadata": {},
     "output_type": "execute_result"
    },
    {
     "data": {
      "image/png": "[encoded data removed]",
      "text/plain": [
       "<Figure size 864x864 with 2 Axes>"
      ]
     },
     "metadata": {
      "needs_background": "light"
     },
     "output_type": "display_data"
    }
   ],
   "source": [
    "plt.figure(figsize=(12,12))\n",
    "sns.heatmap(df.corr(), cmap = \"twilight\")"
   ]
  },
  {
   "cell_type": "code",
   "execution_count": 39,
   "id": "7dabfcd7",
   "metadata": {
    "scrolled": true
   },
   "outputs": [
    {
     "data": {
      "text/html": [
       "<div>\n",
       "<style scoped>\n",
       "    .dataframe tbody tr th:only-of-type {\n",
       "        vertical-align: middle;\n",
       "    }\n",
       "\n",
       "    .dataframe tbody tr th {\n",
       "        vertical-align: top;\n",
       "    }\n",
       "\n",
       "    .dataframe thead th {\n",
       "        text-align: right;\n",
       "    }\n",
       "</style>\n",
       "<table border=\"1\" class=\"dataframe\">\n",
       "  <thead>\n",
       "    <tr style=\"text-align: right;\">\n",
       "      <th></th>\n",
       "      <th>Age</th>\n",
       "      <th>Call_Duration</th>\n",
       "      <th>Annual_Bankbal</th>\n",
       "    </tr>\n",
       "  </thead>\n",
       "  <tbody>\n",
       "    <tr>\n",
       "      <th>Age</th>\n",
       "      <td>1.000000</td>\n",
       "      <td>-0.004648</td>\n",
       "      <td>0.097783</td>\n",
       "    </tr>\n",
       "    <tr>\n",
       "      <th>Call_Duration</th>\n",
       "      <td>-0.004648</td>\n",
       "      <td>1.000000</td>\n",
       "      <td>0.021560</td>\n",
       "    </tr>\n",
       "    <tr>\n",
       "      <th>Annual_Bankbal</th>\n",
       "      <td>0.097783</td>\n",
       "      <td>0.021560</td>\n",
       "      <td>1.000000</td>\n",
       "    </tr>\n",
       "  </tbody>\n",
       "</table>\n",
       "</div>"
      ],
      "text/plain": [
       "                     Age  Call_Duration  Annual_Bankbal\n",
       "Age             1.000000      -0.004648        0.097783\n",
       "Call_Duration  -0.004648       1.000000        0.021560\n",
       "Annual_Bankbal  0.097783       0.021560        1.000000"
      ]
     },
     "execution_count": 39,
     "metadata": {},
     "output_type": "execute_result"
    }
   ],
   "source": [
    "df[['Age','Call_Duration','Annual_Bankbal']].corr()"
   ]
  },
  {
   "cell_type": "code",
   "execution_count": 40,
   "id": "03158253",
   "metadata": {},
   "outputs": [
    {
     "data": {
      "text/plain": [
       "<AxesSubplot:>"
      ]
     },
     "execution_count": 40,
     "metadata": {},
     "output_type": "execute_result"
    },
    {
     "data": {
      "image/png": "[encoded data removed]",
      "text/plain": [
       "<Figure size 576x576 with 2 Axes>"
      ]
     },
     "metadata": {
      "needs_background": "light"
     },
     "output_type": "display_data"
    }
   ],
   "source": [
    "plt.figure(figsize = (8,8))\n",
    "sns.heatmap(df[['Age','Call_Duration','Annual_Bankbal']].corr(), annot=True, cmap = 'Reds')"
   ]
  },
  {
   "cell_type": "code",
   "execution_count": 41,
   "id": "ac9060eb",
   "metadata": {},
   "outputs": [
    {
     "data": {
      "image/png": "[encoded data removed]",
      "text/plain": [
       "<Figure size 720x720 with 2 Axes>"
      ]
     },
     "metadata": {
      "needs_background": "light"
     },
     "output_type": "display_data"
    }
   ],
   "source": [
    "plt.figure(figsize = (10,10))\n",
    "Ed_Prof = (df.pivot_table(index=\"Profession\", columns=\"education\", values=\"Latest_Outcome\", aggfunc=sum))\n",
    "sns.heatmap(Ed_Prof, annot=True, fmt=\"d\", linewidths=0.5);"
   ]
  },
  {
   "cell_type": "code",
   "execution_count": 42,
   "id": "122b8fd5",
   "metadata": {},
   "outputs": [
    {
     "data": {
      "image/png": "[encoded data removed]",
      "text/plain": [
       "<Figure size 432x288 with 1 Axes>"
      ]
     },
     "metadata": {
      "needs_background": "light"
     },
     "output_type": "display_data"
    }
   ],
   "source": [
    "df.Profession.value_counts(normalize=True).plot.barh(cmap = \"Spectral\")\n",
    "plt.show()"
   ]
  },
  {
   "cell_type": "code",
   "execution_count": 43,
   "id": "965861ee",
   "metadata": {},
   "outputs": [
    {
     "data": {
      "image/png": "[encoded data removed]",
      "text/plain": [
       "<Figure size 432x288 with 1 Axes>"
      ]
     },
     "metadata": {},
     "output_type": "display_data"
    }
   ],
   "source": [
    "df.education.value_counts(normalize=True).plot.pie()\n",
    "plt.show()"
   ]
  },
  {
   "cell_type": "code",
   "execution_count": 44,
   "id": "1db7096e",
   "metadata": {},
   "outputs": [
    {
     "name": "stderr",
     "output_type": "stream",
     "text": [
      "C:\\Users\\Mitali\\anaconda3\\lib\\site-packages\\seaborn\\_decorators.py:36: FutureWarning: Pass the following variables as keyword args: x, y. From version 0.12, the only valid positional argument will be `data`, and passing other arguments without an explicit keyword will result in an error or misinterpretation.\n",
      "  warnings.warn(\n"
     ]
    },
    {
     "data": {
      "image/png": "[encoded data removed]",
      "text/plain": [
       "<Figure size 432x288 with 1 Axes>"
      ]
     },
     "metadata": {
      "needs_background": "light"
     },
     "output_type": "display_data"
    }
   ],
   "source": [
    "sns.boxplot(df.Housing_Loan, df.Age)\n",
    "plt.show()"
   ]
  },
  {
   "cell_type": "code",
   "execution_count": 45,
   "id": "7f76f037",
   "metadata": {},
   "outputs": [],
   "source": [
    "#sns.pairplot(data = df, vars = ['Age','Annual_Bankbal','Call_Duration', 'Prior_Contact_ct', 'Previous_Idledays', 'Latest_Outcome'], \n",
    "            #hue = 'Latest_Outcome')\n",
    "               "
   ]
  },
  {
   "cell_type": "code",
   "execution_count": 46,
   "id": "6056fe10",
   "metadata": {},
   "outputs": [],
   "source": [
    "#MODEL SELECTION"
   ]
  },
  {
   "cell_type": "code",
   "execution_count": 47,
   "id": "0d166b5a",
   "metadata": {},
   "outputs": [
    {
     "data": {
      "text/html": [
       "<div>\n",
       "<style scoped>\n",
       "    .dataframe tbody tr th:only-of-type {\n",
       "        vertical-align: middle;\n",
       "    }\n",
       "\n",
       "    .dataframe tbody tr th {\n",
       "        vertical-align: top;\n",
       "    }\n",
       "\n",
       "    .dataframe thead th {\n",
       "        text-align: right;\n",
       "    }\n",
       "</style>\n",
       "<table border=\"1\" class=\"dataframe\">\n",
       "  <thead>\n",
       "    <tr style=\"text-align: right;\">\n",
       "      <th></th>\n",
       "      <th>Age</th>\n",
       "      <th>Profession</th>\n",
       "      <th>Marital_Status</th>\n",
       "      <th>education</th>\n",
       "      <th>Default_Credit</th>\n",
       "      <th>Annual_Bankbal</th>\n",
       "      <th>Housing_Loan</th>\n",
       "      <th>Private_Loan</th>\n",
       "      <th>Contact_Medium</th>\n",
       "      <th>Last_Contact_Day</th>\n",
       "      <th>Prior_Contact_Mos</th>\n",
       "      <th>Call_Duration</th>\n",
       "      <th>campaign</th>\n",
       "      <th>Previous_Idledays</th>\n",
       "      <th>Prior_Contact_ct</th>\n",
       "      <th>Prior_Outcome</th>\n",
       "      <th>Latest_Outcome</th>\n",
       "    </tr>\n",
       "  </thead>\n",
       "  <tbody>\n",
       "    <tr>\n",
       "      <th>0</th>\n",
       "      <td>58</td>\n",
       "      <td>management</td>\n",
       "      <td>married</td>\n",
       "      <td>tertiary</td>\n",
       "      <td>no</td>\n",
       "      <td>2143</td>\n",
       "      <td>yes</td>\n",
       "      <td>no</td>\n",
       "      <td>other</td>\n",
       "      <td>5</td>\n",
       "      <td>5</td>\n",
       "      <td>261</td>\n",
       "      <td>1</td>\n",
       "      <td>-1</td>\n",
       "      <td>0</td>\n",
       "      <td>unknown</td>\n",
       "      <td>0</td>\n",
       "    </tr>\n",
       "    <tr>\n",
       "      <th>1</th>\n",
       "      <td>44</td>\n",
       "      <td>technician</td>\n",
       "      <td>single</td>\n",
       "      <td>secondary</td>\n",
       "      <td>no</td>\n",
       "      <td>29</td>\n",
       "      <td>yes</td>\n",
       "      <td>no</td>\n",
       "      <td>other</td>\n",
       "      <td>5</td>\n",
       "      <td>5</td>\n",
       "      <td>151</td>\n",
       "      <td>1</td>\n",
       "      <td>-1</td>\n",
       "      <td>0</td>\n",
       "      <td>unknown</td>\n",
       "      <td>0</td>\n",
       "    </tr>\n",
       "    <tr>\n",
       "      <th>2</th>\n",
       "      <td>33</td>\n",
       "      <td>entrepreneur</td>\n",
       "      <td>married</td>\n",
       "      <td>secondary</td>\n",
       "      <td>no</td>\n",
       "      <td>2</td>\n",
       "      <td>yes</td>\n",
       "      <td>yes</td>\n",
       "      <td>other</td>\n",
       "      <td>5</td>\n",
       "      <td>5</td>\n",
       "      <td>76</td>\n",
       "      <td>1</td>\n",
       "      <td>-1</td>\n",
       "      <td>0</td>\n",
       "      <td>unknown</td>\n",
       "      <td>0</td>\n",
       "    </tr>\n",
       "    <tr>\n",
       "      <th>3</th>\n",
       "      <td>47</td>\n",
       "      <td>blue-collar</td>\n",
       "      <td>married</td>\n",
       "      <td>other</td>\n",
       "      <td>no</td>\n",
       "      <td>1506</td>\n",
       "      <td>yes</td>\n",
       "      <td>no</td>\n",
       "      <td>other</td>\n",
       "      <td>5</td>\n",
       "      <td>5</td>\n",
       "      <td>92</td>\n",
       "      <td>1</td>\n",
       "      <td>-1</td>\n",
       "      <td>0</td>\n",
       "      <td>unknown</td>\n",
       "      <td>0</td>\n",
       "    </tr>\n",
       "    <tr>\n",
       "      <th>4</th>\n",
       "      <td>33</td>\n",
       "      <td>other</td>\n",
       "      <td>single</td>\n",
       "      <td>other</td>\n",
       "      <td>no</td>\n",
       "      <td>1</td>\n",
       "      <td>no</td>\n",
       "      <td>no</td>\n",
       "      <td>other</td>\n",
       "      <td>5</td>\n",
       "      <td>5</td>\n",
       "      <td>198</td>\n",
       "      <td>1</td>\n",
       "      <td>-1</td>\n",
       "      <td>0</td>\n",
       "      <td>unknown</td>\n",
       "      <td>0</td>\n",
       "    </tr>\n",
       "  </tbody>\n",
       "</table>\n",
       "</div>"
      ],
      "text/plain": [
       "   Age    Profession Marital_Status  education Default_Credit  Annual_Bankbal  \\\n",
       "0   58    management        married   tertiary             no            2143   \n",
       "1   44    technician         single  secondary             no              29   \n",
       "2   33  entrepreneur        married  secondary             no               2   \n",
       "3   47   blue-collar        married      other             no            1506   \n",
       "4   33         other         single      other             no               1   \n",
       "\n",
       "  Housing_Loan Private_Loan Contact_Medium  Last_Contact_Day  \\\n",
       "0          yes           no          other                 5   \n",
       "1          yes           no          other                 5   \n",
       "2          yes          yes          other                 5   \n",
       "3          yes           no          other                 5   \n",
       "4           no           no          other                 5   \n",
       "\n",
       "   Prior_Contact_Mos  Call_Duration  campaign  Previous_Idledays  \\\n",
       "0                  5            261         1                 -1   \n",
       "1                  5            151         1                 -1   \n",
       "2                  5             76         1                 -1   \n",
       "3                  5             92         1                 -1   \n",
       "4                  5            198         1                 -1   \n",
       "\n",
       "   Prior_Contact_ct Prior_Outcome  Latest_Outcome  \n",
       "0                 0       unknown               0  \n",
       "1                 0       unknown               0  \n",
       "2                 0       unknown               0  \n",
       "3                 0       unknown               0  \n",
       "4                 0       unknown               0  "
      ]
     },
     "execution_count": 47,
     "metadata": {},
     "output_type": "execute_result"
    }
   ],
   "source": [
    "df.head()"
   ]
  },
  {
   "cell_type": "code",
   "execution_count": 48,
   "id": "1cf668e5",
   "metadata": {},
   "outputs": [
    {
     "data": {
      "text/plain": [
       "Index(['Profession', 'Marital_Status', 'education', 'Default_Credit',\n",
       "       'Housing_Loan', 'Private_Loan', 'Contact_Medium', 'Prior_Outcome'],\n",
       "      dtype='object')"
      ]
     },
     "execution_count": 48,
     "metadata": {},
     "output_type": "execute_result"
    }
   ],
   "source": [
    "df_obj = df.select_dtypes('object')\n",
    "df_obj.columns"
   ]
  },
  {
   "cell_type": "code",
   "execution_count": 49,
   "id": "7733ef8a",
   "metadata": {},
   "outputs": [],
   "source": [
    "#Label Encoding for categorical columns\n",
    "from sklearn import preprocessing\n",
    "le = preprocessing.LabelEncoder()\n",
    "df['Profession'] = le.fit_transform(df['Profession'])\n",
    "df['Marital_Status'] = le.fit_transform(df['Marital_Status'])\n",
    "df['education'] = le.fit_transform(df['education'])\n",
    "df['Default_Credit'] = le.fit_transform(df['Default_Credit'])\n",
    "df['Housing_Loan'] = le.fit_transform(df['Housing_Loan'])\n",
    "df['Private_Loan'] = le.fit_transform(df['Private_Loan'])\n",
    "df['Contact_Medium'] = le.fit_transform(df['Contact_Medium'])\n",
    "df['Prior_Outcome'] = le.fit_transform(df['Prior_Outcome'])\n"
   ]
  },
  {
   "cell_type": "code",
   "execution_count": 50,
   "id": "2807b2e8",
   "metadata": {},
   "outputs": [
    {
     "data": {
      "text/html": [
       "<div>\n",
       "<style scoped>\n",
       "    .dataframe tbody tr th:only-of-type {\n",
       "        vertical-align: middle;\n",
       "    }\n",
       "\n",
       "    .dataframe tbody tr th {\n",
       "        vertical-align: top;\n",
       "    }\n",
       "\n",
       "    .dataframe thead th {\n",
       "        text-align: right;\n",
       "    }\n",
       "</style>\n",
       "<table border=\"1\" class=\"dataframe\">\n",
       "  <thead>\n",
       "    <tr style=\"text-align: right;\">\n",
       "      <th></th>\n",
       "      <th>Age</th>\n",
       "      <th>Profession</th>\n",
       "      <th>Marital_Status</th>\n",
       "      <th>education</th>\n",
       "      <th>Default_Credit</th>\n",
       "      <th>Annual_Bankbal</th>\n",
       "      <th>Housing_Loan</th>\n",
       "      <th>Private_Loan</th>\n",
       "      <th>Contact_Medium</th>\n",
       "      <th>Last_Contact_Day</th>\n",
       "      <th>Prior_Contact_Mos</th>\n",
       "      <th>Call_Duration</th>\n",
       "      <th>campaign</th>\n",
       "      <th>Previous_Idledays</th>\n",
       "      <th>Prior_Contact_ct</th>\n",
       "      <th>Prior_Outcome</th>\n",
       "      <th>Latest_Outcome</th>\n",
       "    </tr>\n",
       "  </thead>\n",
       "  <tbody>\n",
       "    <tr>\n",
       "      <th>0</th>\n",
       "      <td>58</td>\n",
       "      <td>4</td>\n",
       "      <td>1</td>\n",
       "      <td>3</td>\n",
       "      <td>0</td>\n",
       "      <td>2143</td>\n",
       "      <td>1</td>\n",
       "      <td>0</td>\n",
       "      <td>1</td>\n",
       "      <td>5</td>\n",
       "      <td>5</td>\n",
       "      <td>261</td>\n",
       "      <td>1</td>\n",
       "      <td>-1</td>\n",
       "      <td>0</td>\n",
       "      <td>3</td>\n",
       "      <td>0</td>\n",
       "    </tr>\n",
       "    <tr>\n",
       "      <th>1</th>\n",
       "      <td>44</td>\n",
       "      <td>10</td>\n",
       "      <td>2</td>\n",
       "      <td>2</td>\n",
       "      <td>0</td>\n",
       "      <td>29</td>\n",
       "      <td>1</td>\n",
       "      <td>0</td>\n",
       "      <td>1</td>\n",
       "      <td>5</td>\n",
       "      <td>5</td>\n",
       "      <td>151</td>\n",
       "      <td>1</td>\n",
       "      <td>-1</td>\n",
       "      <td>0</td>\n",
       "      <td>3</td>\n",
       "      <td>0</td>\n",
       "    </tr>\n",
       "    <tr>\n",
       "      <th>2</th>\n",
       "      <td>33</td>\n",
       "      <td>2</td>\n",
       "      <td>1</td>\n",
       "      <td>2</td>\n",
       "      <td>0</td>\n",
       "      <td>2</td>\n",
       "      <td>1</td>\n",
       "      <td>1</td>\n",
       "      <td>1</td>\n",
       "      <td>5</td>\n",
       "      <td>5</td>\n",
       "      <td>76</td>\n",
       "      <td>1</td>\n",
       "      <td>-1</td>\n",
       "      <td>0</td>\n",
       "      <td>3</td>\n",
       "      <td>0</td>\n",
       "    </tr>\n",
       "    <tr>\n",
       "      <th>3</th>\n",
       "      <td>47</td>\n",
       "      <td>1</td>\n",
       "      <td>1</td>\n",
       "      <td>0</td>\n",
       "      <td>0</td>\n",
       "      <td>1506</td>\n",
       "      <td>1</td>\n",
       "      <td>0</td>\n",
       "      <td>1</td>\n",
       "      <td>5</td>\n",
       "      <td>5</td>\n",
       "      <td>92</td>\n",
       "      <td>1</td>\n",
       "      <td>-1</td>\n",
       "      <td>0</td>\n",
       "      <td>3</td>\n",
       "      <td>0</td>\n",
       "    </tr>\n",
       "    <tr>\n",
       "      <th>4</th>\n",
       "      <td>33</td>\n",
       "      <td>5</td>\n",
       "      <td>2</td>\n",
       "      <td>0</td>\n",
       "      <td>0</td>\n",
       "      <td>1</td>\n",
       "      <td>0</td>\n",
       "      <td>0</td>\n",
       "      <td>1</td>\n",
       "      <td>5</td>\n",
       "      <td>5</td>\n",
       "      <td>198</td>\n",
       "      <td>1</td>\n",
       "      <td>-1</td>\n",
       "      <td>0</td>\n",
       "      <td>3</td>\n",
       "      <td>0</td>\n",
       "    </tr>\n",
       "  </tbody>\n",
       "</table>\n",
       "</div>"
      ],
      "text/plain": [
       "   Age  Profession  Marital_Status  education  Default_Credit  Annual_Bankbal  \\\n",
       "0   58           4               1          3               0            2143   \n",
       "1   44          10               2          2               0              29   \n",
       "2   33           2               1          2               0               2   \n",
       "3   47           1               1          0               0            1506   \n",
       "4   33           5               2          0               0               1   \n",
       "\n",
       "   Housing_Loan  Private_Loan  Contact_Medium  Last_Contact_Day  \\\n",
       "0             1             0               1                 5   \n",
       "1             1             0               1                 5   \n",
       "2             1             1               1                 5   \n",
       "3             1             0               1                 5   \n",
       "4             0             0               1                 5   \n",
       "\n",
       "   Prior_Contact_Mos  Call_Duration  campaign  Previous_Idledays  \\\n",
       "0                  5            261         1                 -1   \n",
       "1                  5            151         1                 -1   \n",
       "2                  5             76         1                 -1   \n",
       "3                  5             92         1                 -1   \n",
       "4                  5            198         1                 -1   \n",
       "\n",
       "   Prior_Contact_ct  Prior_Outcome  Latest_Outcome  \n",
       "0                 0              3               0  \n",
       "1                 0              3               0  \n",
       "2                 0              3               0  \n",
       "3                 0              3               0  \n",
       "4                 0              3               0  "
      ]
     },
     "execution_count": 50,
     "metadata": {},
     "output_type": "execute_result"
    }
   ],
   "source": [
    "df.head()"
   ]
  },
  {
   "cell_type": "code",
   "execution_count": 51,
   "id": "161ffa5a",
   "metadata": {},
   "outputs": [],
   "source": [
    "X = df.drop(['Latest_Outcome'], axis = 1)\n",
    "y = df['Latest_Outcome']"
   ]
  },
  {
   "cell_type": "code",
   "execution_count": 52,
   "id": "6c11283f",
   "metadata": {},
   "outputs": [
    {
     "data": {
      "text/html": [
       "<div>\n",
       "<style scoped>\n",
       "    .dataframe tbody tr th:only-of-type {\n",
       "        vertical-align: middle;\n",
       "    }\n",
       "\n",
       "    .dataframe tbody tr th {\n",
       "        vertical-align: top;\n",
       "    }\n",
       "\n",
       "    .dataframe thead th {\n",
       "        text-align: right;\n",
       "    }\n",
       "</style>\n",
       "<table border=\"1\" class=\"dataframe\">\n",
       "  <thead>\n",
       "    <tr style=\"text-align: right;\">\n",
       "      <th></th>\n",
       "      <th>Age</th>\n",
       "      <th>Profession</th>\n",
       "      <th>Marital_Status</th>\n",
       "      <th>education</th>\n",
       "      <th>Default_Credit</th>\n",
       "      <th>Annual_Bankbal</th>\n",
       "      <th>Housing_Loan</th>\n",
       "      <th>Private_Loan</th>\n",
       "      <th>Contact_Medium</th>\n",
       "      <th>Last_Contact_Day</th>\n",
       "      <th>Prior_Contact_Mos</th>\n",
       "      <th>Call_Duration</th>\n",
       "      <th>campaign</th>\n",
       "      <th>Previous_Idledays</th>\n",
       "      <th>Prior_Contact_ct</th>\n",
       "      <th>Prior_Outcome</th>\n",
       "    </tr>\n",
       "  </thead>\n",
       "  <tbody>\n",
       "    <tr>\n",
       "      <th>0</th>\n",
       "      <td>58</td>\n",
       "      <td>4</td>\n",
       "      <td>1</td>\n",
       "      <td>3</td>\n",
       "      <td>0</td>\n",
       "      <td>2143</td>\n",
       "      <td>1</td>\n",
       "      <td>0</td>\n",
       "      <td>1</td>\n",
       "      <td>5</td>\n",
       "      <td>5</td>\n",
       "      <td>261</td>\n",
       "      <td>1</td>\n",
       "      <td>-1</td>\n",
       "      <td>0</td>\n",
       "      <td>3</td>\n",
       "    </tr>\n",
       "    <tr>\n",
       "      <th>1</th>\n",
       "      <td>44</td>\n",
       "      <td>10</td>\n",
       "      <td>2</td>\n",
       "      <td>2</td>\n",
       "      <td>0</td>\n",
       "      <td>29</td>\n",
       "      <td>1</td>\n",
       "      <td>0</td>\n",
       "      <td>1</td>\n",
       "      <td>5</td>\n",
       "      <td>5</td>\n",
       "      <td>151</td>\n",
       "      <td>1</td>\n",
       "      <td>-1</td>\n",
       "      <td>0</td>\n",
       "      <td>3</td>\n",
       "    </tr>\n",
       "    <tr>\n",
       "      <th>2</th>\n",
       "      <td>33</td>\n",
       "      <td>2</td>\n",
       "      <td>1</td>\n",
       "      <td>2</td>\n",
       "      <td>0</td>\n",
       "      <td>2</td>\n",
       "      <td>1</td>\n",
       "      <td>1</td>\n",
       "      <td>1</td>\n",
       "      <td>5</td>\n",
       "      <td>5</td>\n",
       "      <td>76</td>\n",
       "      <td>1</td>\n",
       "      <td>-1</td>\n",
       "      <td>0</td>\n",
       "      <td>3</td>\n",
       "    </tr>\n",
       "    <tr>\n",
       "      <th>3</th>\n",
       "      <td>47</td>\n",
       "      <td>1</td>\n",
       "      <td>1</td>\n",
       "      <td>0</td>\n",
       "      <td>0</td>\n",
       "      <td>1506</td>\n",
       "      <td>1</td>\n",
       "      <td>0</td>\n",
       "      <td>1</td>\n",
       "      <td>5</td>\n",
       "      <td>5</td>\n",
       "      <td>92</td>\n",
       "      <td>1</td>\n",
       "      <td>-1</td>\n",
       "      <td>0</td>\n",
       "      <td>3</td>\n",
       "    </tr>\n",
       "    <tr>\n",
       "      <th>4</th>\n",
       "      <td>33</td>\n",
       "      <td>5</td>\n",
       "      <td>2</td>\n",
       "      <td>0</td>\n",
       "      <td>0</td>\n",
       "      <td>1</td>\n",
       "      <td>0</td>\n",
       "      <td>0</td>\n",
       "      <td>1</td>\n",
       "      <td>5</td>\n",
       "      <td>5</td>\n",
       "      <td>198</td>\n",
       "      <td>1</td>\n",
       "      <td>-1</td>\n",
       "      <td>0</td>\n",
       "      <td>3</td>\n",
       "    </tr>\n",
       "  </tbody>\n",
       "</table>\n",
       "</div>"
      ],
      "text/plain": [
       "   Age  Profession  Marital_Status  education  Default_Credit  Annual_Bankbal  \\\n",
       "0   58           4               1          3               0            2143   \n",
       "1   44          10               2          2               0              29   \n",
       "2   33           2               1          2               0               2   \n",
       "3   47           1               1          0               0            1506   \n",
       "4   33           5               2          0               0               1   \n",
       "\n",
       "   Housing_Loan  Private_Loan  Contact_Medium  Last_Contact_Day  \\\n",
       "0             1             0               1                 5   \n",
       "1             1             0               1                 5   \n",
       "2             1             1               1                 5   \n",
       "3             1             0               1                 5   \n",
       "4             0             0               1                 5   \n",
       "\n",
       "   Prior_Contact_Mos  Call_Duration  campaign  Previous_Idledays  \\\n",
       "0                  5            261         1                 -1   \n",
       "1                  5            151         1                 -1   \n",
       "2                  5             76         1                 -1   \n",
       "3                  5             92         1                 -1   \n",
       "4                  5            198         1                 -1   \n",
       "\n",
       "   Prior_Contact_ct  Prior_Outcome  \n",
       "0                 0              3  \n",
       "1                 0              3  \n",
       "2                 0              3  \n",
       "3                 0              3  \n",
       "4                 0              3  "
      ]
     },
     "execution_count": 52,
     "metadata": {},
     "output_type": "execute_result"
    }
   ],
   "source": [
    "X.head()"
   ]
  },
  {
   "cell_type": "code",
   "execution_count": 53,
   "id": "7d8f7300",
   "metadata": {},
   "outputs": [
    {
     "data": {
      "text/plain": [
       "0    0\n",
       "1    0\n",
       "2    0\n",
       "3    0\n",
       "4    0\n",
       "Name: Latest_Outcome, dtype: int64"
      ]
     },
     "execution_count": 53,
     "metadata": {},
     "output_type": "execute_result"
    }
   ],
   "source": [
    "y.head()"
   ]
  },
  {
   "cell_type": "code",
   "execution_count": 54,
   "id": "1ad70d44",
   "metadata": {},
   "outputs": [],
   "source": [
    "from sklearn.model_selection import train_test_split\n",
    "X_train, X_test, y_train, y_test = train_test_split(X, y, test_size = 0.25, random_state = 12)"
   ]
  },
  {
   "cell_type": "code",
   "execution_count": 55,
   "id": "4f4b1d58",
   "metadata": {},
   "outputs": [],
   "source": [
    "cl = X_train.columns"
   ]
  },
  {
   "cell_type": "code",
   "execution_count": 56,
   "id": "e17d7bc2",
   "metadata": {},
   "outputs": [],
   "source": [
    "from sklearn.preprocessing import StandardScaler\n",
    "scaler = StandardScaler()\n",
    "\n",
    "X_train = scaler.fit_transform(X_train)\n",
    "X_test = scaler.transform(X_test)"
   ]
  },
  {
   "cell_type": "code",
   "execution_count": 57,
   "id": "27a1c6da",
   "metadata": {},
   "outputs": [],
   "source": [
    "X_train = pd.DataFrame(X_train, columns=[cl])\n",
    "X_test = pd.DataFrame(X_test, columns=[cl])"
   ]
  },
  {
   "cell_type": "code",
   "execution_count": 58,
   "id": "766ee930",
   "metadata": {},
   "outputs": [],
   "source": [
    "from sklearn.linear_model import LogisticRegression\n",
    "from sklearn.svm import SVC\n",
    "from sklearn.neighbors import KNeighborsClassifier\n",
    "from sklearn.tree import DecisionTreeClassifier\n",
    "from sklearn.ensemble import RandomForestClassifier\n",
    "from sklearn.naive_bayes import GaussianNB"
   ]
  },
  {
   "cell_type": "code",
   "execution_count": 59,
   "id": "b257a2c8",
   "metadata": {},
   "outputs": [],
   "source": [
    "from sklearn import metrics\n",
    "from sklearn.metrics import classification_report\n",
    "from sklearn.metrics import confusion_matrix\n",
    "from sklearn.metrics import accuracy_score"
   ]
  },
  {
   "cell_type": "code",
   "execution_count": 60,
   "id": "b9040591",
   "metadata": {},
   "outputs": [],
   "source": [
    "from sklearn.metrics import roc_curve, auc, RocCurveDisplay"
   ]
  },
  {
   "cell_type": "code",
   "execution_count": 61,
   "id": "2d7553fe",
   "metadata": {},
   "outputs": [
    {
     "name": "stderr",
     "output_type": "stream",
     "text": [
      "C:\\Users\\Mitali\\anaconda3\\lib\\site-packages\\sklearn\\utils\\validation.py:1688: FutureWarning: Feature names only support names that are all strings. Got feature names with dtypes: ['tuple']. An error will be raised in 1.2.\n",
      "  warnings.warn(\n",
      "C:\\Users\\Mitali\\anaconda3\\lib\\site-packages\\sklearn\\utils\\validation.py:1688: FutureWarning: Feature names only support names that are all strings. Got feature names with dtypes: ['tuple']. An error will be raised in 1.2.\n",
      "  warnings.warn(\n"
     ]
    }
   ],
   "source": [
    "#SVM\n",
    "svm_mod = SVC()\n",
    "svm_mod.fit(X_train,y_train)\n",
    "y_pred=svm_mod.predict(X_test)"
   ]
  },
  {
   "cell_type": "code",
   "execution_count": 62,
   "id": "8a66a73e",
   "metadata": {},
   "outputs": [
    {
     "name": "stdout",
     "output_type": "stream",
     "text": [
      "Model accuracy score: 0.8979\n"
     ]
    }
   ],
   "source": [
    "#Accuracy for SVM\n",
    "print('Model accuracy score: {0:0.4f}'. format(accuracy_score(y_test, y_pred)))"
   ]
  },
  {
   "cell_type": "code",
   "execution_count": 63,
   "id": "bc87e380",
   "metadata": {},
   "outputs": [
    {
     "name": "stdout",
     "output_type": "stream",
     "text": [
      "Confusion matrix\n",
      "\n",
      " [[9790  204]\n",
      " [ 950  359]]\n",
      "\n",
      "True Positives(TP) =  9790\n",
      "\n",
      "True Negatives(TN) =  359\n",
      "\n",
      "False Positives(FP) =  204\n",
      "\n",
      "False Negatives(FN) =  950\n"
     ]
    }
   ],
   "source": [
    "# Print the Confusion Matrix and slice it into four pieces\n",
    "from sklearn.metrics import confusion_matrix\n",
    "cm = confusion_matrix(y_test, y_pred)\n",
    "print('Confusion matrix\\n\\n', cm)\n",
    "print('\\nTrue Positives(TP) = ', cm[0,0])\n",
    "print('\\nTrue Negatives(TN) = ', cm[1,1])\n",
    "print('\\nFalse Positives(FP) = ', cm[0,1])\n",
    "print('\\nFalse Negatives(FN) = ', cm[1,0])"
   ]
  },
  {
   "cell_type": "code",
   "execution_count": 64,
   "id": "d09160fd",
   "metadata": {},
   "outputs": [
    {
     "data": {
      "text/plain": [
       "<AxesSubplot:>"
      ]
     },
     "execution_count": 64,
     "metadata": {},
     "output_type": "execute_result"
    },
    {
     "data": {
      "image/png": "[encoded data removed]",
      "text/plain": [
       "<Figure size 432x288 with 2 Axes>"
      ]
     },
     "metadata": {
      "needs_background": "light"
     },
     "output_type": "display_data"
    }
   ],
   "source": [
    "cm_matrix = pd.DataFrame(data=cm, columns=['Actual Positive:1', 'Actual Negative:0'], \n",
    "                                 index=['Predict Positive:1', 'Predict Negative:0'])\n",
    "sns.heatmap(cm_matrix, annot=True, fmt='d', cmap='Spectral')"
   ]
  },
  {
   "cell_type": "code",
   "execution_count": 65,
   "id": "e242f50c",
   "metadata": {},
   "outputs": [
    {
     "name": "stdout",
     "output_type": "stream",
     "text": [
      "              precision    recall  f1-score   support\n",
      "\n",
      "           0       0.91      0.98      0.94      9994\n",
      "           1       0.64      0.27      0.38      1309\n",
      "\n",
      "    accuracy                           0.90     11303\n",
      "   macro avg       0.77      0.63      0.66     11303\n",
      "weighted avg       0.88      0.90      0.88     11303\n",
      "\n"
     ]
    }
   ],
   "source": [
    "#Classification report for SVM\n",
    "from sklearn.metrics import classification_report\n",
    "print(classification_report(y_test, y_pred))"
   ]
  },
  {
   "cell_type": "code",
   "execution_count": 66,
   "id": "9752de54",
   "metadata": {},
   "outputs": [
    {
     "name": "stderr",
     "output_type": "stream",
     "text": [
      "C:\\Users\\Mitali\\anaconda3\\lib\\site-packages\\sklearn\\utils\\validation.py:1688: FutureWarning: Feature names only support names that are all strings. Got feature names with dtypes: ['tuple']. An error will be raised in 1.2.\n",
      "  warnings.warn(\n"
     ]
    },
    {
     "data": {
      "text/plain": [
       "<sklearn.metrics._plot.roc_curve.RocCurveDisplay at 0x1c4fb79af10>"
      ]
     },
     "execution_count": 66,
     "metadata": {},
     "output_type": "execute_result"
    },
    {
     "data": {
      "image/png": "[encoded data removed]",
      "text/plain": [
       "<Figure size 432x288 with 1 Axes>"
      ]
     },
     "metadata": {
      "needs_background": "light"
     },
     "output_type": "display_data"
    }
   ],
   "source": [
    "#ROC Curve for SVM\n",
    "RocCurveDisplay.from_estimator(svm_mod, X_test, y_test)"
   ]
  },
  {
   "cell_type": "code",
   "execution_count": 67,
   "id": "85e3b555",
   "metadata": {},
   "outputs": [
    {
     "name": "stderr",
     "output_type": "stream",
     "text": [
      "C:\\Users\\Mitali\\anaconda3\\lib\\site-packages\\sklearn\\utils\\validation.py:1688: FutureWarning: Feature names only support names that are all strings. Got feature names with dtypes: ['tuple']. An error will be raised in 1.2.\n",
      "  warnings.warn(\n",
      "C:\\Users\\Mitali\\anaconda3\\lib\\site-packages\\sklearn\\utils\\validation.py:1688: FutureWarning: Feature names only support names that are all strings. Got feature names with dtypes: ['tuple']. An error will be raised in 1.2.\n",
      "  warnings.warn(\n"
     ]
    }
   ],
   "source": [
    "#KNN\n",
    "kn = KNeighborsClassifier()\n",
    "kn.fit(X_train, y_train)\n",
    "y_predk = kn.predict(X_test)"
   ]
  },
  {
   "cell_type": "code",
   "execution_count": 68,
   "id": "39903e37",
   "metadata": {},
   "outputs": [
    {
     "name": "stdout",
     "output_type": "stream",
     "text": [
      "Model accuracy score: 0.8951\n"
     ]
    }
   ],
   "source": [
    "#Accuracy for KNN\n",
    "print('Model accuracy score: {0:0.4f}'. format(accuracy_score(y_test, y_predk)))"
   ]
  },
  {
   "cell_type": "code",
   "execution_count": 69,
   "id": "47a55a25",
   "metadata": {},
   "outputs": [
    {
     "name": "stdout",
     "output_type": "stream",
     "text": [
      "Confusion matrix\n",
      "\n",
      " [[9658  336]\n",
      " [ 850  459]]\n",
      "\n",
      "True Positives(TP) =  9658\n",
      "\n",
      "True Negatives(TN) =  459\n",
      "\n",
      "False Positives(FP) =  336\n",
      "\n",
      "False Negatives(FN) =  850\n"
     ]
    }
   ],
   "source": [
    "# Print the Confusion Matrix and slice it into four pieces\n",
    "from sklearn.metrics import confusion_matrix\n",
    "cm = confusion_matrix(y_test, y_predk)\n",
    "print('Confusion matrix\\n\\n', cm)\n",
    "print('\\nTrue Positives(TP) = ', cm[0,0])\n",
    "print('\\nTrue Negatives(TN) = ', cm[1,1])\n",
    "print('\\nFalse Positives(FP) = ', cm[0,1])\n",
    "print('\\nFalse Negatives(FN) = ', cm[1,0])"
   ]
  },
  {
   "cell_type": "code",
   "execution_count": 70,
   "id": "e90bb7ff",
   "metadata": {},
   "outputs": [
    {
     "data": {
      "text/plain": [
       "<AxesSubplot:>"
      ]
     },
     "execution_count": 70,
     "metadata": {},
     "output_type": "execute_result"
    },
    {
     "data": {
      "image/png": "[encoded data removed]",
      "text/plain": [
       "<Figure size 432x288 with 2 Axes>"
      ]
     },
     "metadata": {
      "needs_background": "light"
     },
     "output_type": "display_data"
    }
   ],
   "source": [
    "cm_matrix = pd.DataFrame(data=cm, columns=['Actual Positive:1', 'Actual Negative:0'], \n",
    "                                 index=['Predict Positive:1', 'Predict Negative:0'])\n",
    "sns.heatmap(cm_matrix, annot=True, fmt='d', cmap='Wistia')"
   ]
  },
  {
   "cell_type": "code",
   "execution_count": 71,
   "id": "e5a44502",
   "metadata": {},
   "outputs": [
    {
     "name": "stdout",
     "output_type": "stream",
     "text": [
      "              precision    recall  f1-score   support\n",
      "\n",
      "           0       0.92      0.97      0.94      9994\n",
      "           1       0.58      0.35      0.44      1309\n",
      "\n",
      "    accuracy                           0.90     11303\n",
      "   macro avg       0.75      0.66      0.69     11303\n",
      "weighted avg       0.88      0.90      0.88     11303\n",
      "\n"
     ]
    }
   ],
   "source": [
    "#Classification report for KNN\n",
    "from sklearn.metrics import classification_report\n",
    "print(classification_report(y_test, y_predk))"
   ]
  },
  {
   "cell_type": "code",
   "execution_count": 72,
   "id": "2293e328",
   "metadata": {},
   "outputs": [
    {
     "name": "stderr",
     "output_type": "stream",
     "text": [
      "C:\\Users\\Mitali\\anaconda3\\lib\\site-packages\\sklearn\\utils\\validation.py:1688: FutureWarning: Feature names only support names that are all strings. Got feature names with dtypes: ['tuple']. An error will be raised in 1.2.\n",
      "  warnings.warn(\n"
     ]
    },
    {
     "data": {
      "text/plain": [
       "<sklearn.metrics._plot.roc_curve.RocCurveDisplay at 0x1c4fb7d15b0>"
      ]
     },
     "execution_count": 72,
     "metadata": {},
     "output_type": "execute_result"
    },
    {
     "data": {
      "image/png": "[encoded data removed]",
      "text/plain": [
       "<Figure size 432x288 with 1 Axes>"
      ]
     },
     "metadata": {
      "needs_background": "light"
     },
     "output_type": "display_data"
    }
   ],
   "source": [
    "#ROC Curve for KNN\n",
    "RocCurveDisplay.from_estimator(kn, X_test, y_test)"
   ]
  },
  {
   "cell_type": "code",
   "execution_count": 73,
   "id": "ef571955",
   "metadata": {},
   "outputs": [
    {
     "name": "stderr",
     "output_type": "stream",
     "text": [
      "C:\\Users\\Mitali\\anaconda3\\lib\\site-packages\\sklearn\\utils\\validation.py:1688: FutureWarning: Feature names only support names that are all strings. Got feature names with dtypes: ['tuple']. An error will be raised in 1.2.\n",
      "  warnings.warn(\n",
      "C:\\Users\\Mitali\\anaconda3\\lib\\site-packages\\sklearn\\utils\\validation.py:1688: FutureWarning: Feature names only support names that are all strings. Got feature names with dtypes: ['tuple']. An error will be raised in 1.2.\n",
      "  warnings.warn(\n"
     ]
    }
   ],
   "source": [
    "#Decision Tree\n",
    "dt = DecisionTreeClassifier()\n",
    "dt.fit(X_train, y_train)\n",
    "y_predt = dt.predict(X_test)"
   ]
  },
  {
   "cell_type": "code",
   "execution_count": 74,
   "id": "341183cd",
   "metadata": {},
   "outputs": [
    {
     "name": "stdout",
     "output_type": "stream",
     "text": [
      "Model accuracy score: 0.8804\n"
     ]
    }
   ],
   "source": [
    "#Accuracy for Decision Tree\n",
    "print('Model accuracy score: {0:0.4f}'. format(accuracy_score(y_test, y_predt)))"
   ]
  },
  {
   "cell_type": "code",
   "execution_count": 75,
   "id": "b77f560a",
   "metadata": {},
   "outputs": [
    {
     "name": "stdout",
     "output_type": "stream",
     "text": [
      "Confusion matrix\n",
      "\n",
      " [[9295  699]\n",
      " [ 653  656]]\n",
      "\n",
      "True Positives(TP) =  9295\n",
      "\n",
      "True Negatives(TN) =  656\n",
      "\n",
      "False Positives(FP) =  699\n",
      "\n",
      "False Negatives(FN) =  653\n"
     ]
    }
   ],
   "source": [
    "# Print the Confusion Matrix and slice it into four pieces\n",
    "from sklearn.metrics import confusion_matrix\n",
    "cm = confusion_matrix(y_test, y_predt)\n",
    "print('Confusion matrix\\n\\n', cm)\n",
    "print('\\nTrue Positives(TP) = ', cm[0,0])\n",
    "print('\\nTrue Negatives(TN) = ', cm[1,1])\n",
    "print('\\nFalse Positives(FP) = ', cm[0,1])\n",
    "print('\\nFalse Negatives(FN) = ', cm[1,0])"
   ]
  },
  {
   "cell_type": "code",
   "execution_count": 76,
   "id": "f7e34b05",
   "metadata": {},
   "outputs": [
    {
     "data": {
      "text/plain": [
       "<AxesSubplot:>"
      ]
     },
     "execution_count": 76,
     "metadata": {},
     "output_type": "execute_result"
    },
    {
     "data": {
      "image/png": "[encoded data removed]",
      "text/plain": [
       "<Figure size 432x288 with 2 Axes>"
      ]
     },
     "metadata": {
      "needs_background": "light"
     },
     "output_type": "display_data"
    }
   ],
   "source": [
    "cm_matrix = pd.DataFrame(data=cm, columns=['Actual Positive:1', 'Actual Negative:0'], \n",
    "                                 index=['Predict Positive:1', 'Predict Negative:0'])\n",
    "sns.heatmap(cm_matrix, annot=True, fmt='d', cmap='flag')"
   ]
  },
  {
   "cell_type": "code",
   "execution_count": 77,
   "id": "42c95df0",
   "metadata": {},
   "outputs": [
    {
     "name": "stdout",
     "output_type": "stream",
     "text": [
      "              precision    recall  f1-score   support\n",
      "\n",
      "           0       0.93      0.93      0.93      9994\n",
      "           1       0.48      0.50      0.49      1309\n",
      "\n",
      "    accuracy                           0.88     11303\n",
      "   macro avg       0.71      0.72      0.71     11303\n",
      "weighted avg       0.88      0.88      0.88     11303\n",
      "\n"
     ]
    }
   ],
   "source": [
    "#Classification report for Decision Tree\n",
    "from sklearn.metrics import classification_report\n",
    "print(classification_report(y_test, y_predt))"
   ]
  },
  {
   "cell_type": "code",
   "execution_count": 78,
   "id": "332023f0",
   "metadata": {},
   "outputs": [
    {
     "name": "stderr",
     "output_type": "stream",
     "text": [
      "C:\\Users\\Mitali\\anaconda3\\lib\\site-packages\\sklearn\\utils\\validation.py:1688: FutureWarning: Feature names only support names that are all strings. Got feature names with dtypes: ['tuple']. An error will be raised in 1.2.\n",
      "  warnings.warn(\n"
     ]
    },
    {
     "data": {
      "text/plain": [
       "<sklearn.metrics._plot.roc_curve.RocCurveDisplay at 0x1c4fbe3df40>"
      ]
     },
     "execution_count": 78,
     "metadata": {},
     "output_type": "execute_result"
    },
    {
     "data": {
      "image/png": "[encoded data removed]",
      "text/plain": [
       "<Figure size 432x288 with 1 Axes>"
      ]
     },
     "metadata": {
      "needs_background": "light"
     },
     "output_type": "display_data"
    }
   ],
   "source": [
    "#ROC Curve for Decision Tree\n",
    "RocCurveDisplay.from_estimator(dt, X_test, y_test)"
   ]
  },
  {
   "cell_type": "code",
   "execution_count": 79,
   "id": "35254147",
   "metadata": {},
   "outputs": [
    {
     "name": "stderr",
     "output_type": "stream",
     "text": [
      "C:\\Users\\Mitali\\anaconda3\\lib\\site-packages\\sklearn\\utils\\validation.py:1688: FutureWarning: Feature names only support names that are all strings. Got feature names with dtypes: ['tuple']. An error will be raised in 1.2.\n",
      "  warnings.warn(\n",
      "C:\\Users\\Mitali\\anaconda3\\lib\\site-packages\\sklearn\\utils\\validation.py:1688: FutureWarning: Feature names only support names that are all strings. Got feature names with dtypes: ['tuple']. An error will be raised in 1.2.\n",
      "  warnings.warn(\n"
     ]
    }
   ],
   "source": [
    "#RANDOM FOREST\n",
    "rf = RandomForestClassifier()\n",
    "rf.fit(X_train, y_train)\n",
    "y_predr = rf.predict(X_test)"
   ]
  },
  {
   "cell_type": "code",
   "execution_count": 80,
   "id": "caaf0f00",
   "metadata": {},
   "outputs": [
    {
     "name": "stdout",
     "output_type": "stream",
     "text": [
      "Model accuracy score: 0.9042\n"
     ]
    }
   ],
   "source": [
    "#Accuracy for Random Forest\n",
    "print('Model accuracy score: {0:0.4f}'. format(accuracy_score(y_test, y_predr)))"
   ]
  },
  {
   "cell_type": "code",
   "execution_count": 81,
   "id": "ddf3665e",
   "metadata": {},
   "outputs": [
    {
     "name": "stdout",
     "output_type": "stream",
     "text": [
      "Confusion matrix\n",
      "\n",
      " [[9697  297]\n",
      " [ 786  523]]\n",
      "\n",
      "True Positives(TP) =  9697\n",
      "\n",
      "True Negatives(TN) =  523\n",
      "\n",
      "False Positives(FP) =  297\n",
      "\n",
      "False Negatives(FN) =  786\n"
     ]
    }
   ],
   "source": [
    "# Print the Confusion Matrix and slice it into four pieces\n",
    "from sklearn.metrics import confusion_matrix\n",
    "cm = confusion_matrix(y_test, y_predr)\n",
    "print('Confusion matrix\\n\\n', cm)\n",
    "print('\\nTrue Positives(TP) = ', cm[0,0])\n",
    "print('\\nTrue Negatives(TN) = ', cm[1,1])\n",
    "print('\\nFalse Positives(FP) = ', cm[0,1])\n",
    "print('\\nFalse Negatives(FN) = ', cm[1,0])"
   ]
  },
  {
   "cell_type": "code",
   "execution_count": 82,
   "id": "0066a519",
   "metadata": {},
   "outputs": [
    {
     "data": {
      "text/plain": [
       "<AxesSubplot:>"
      ]
     },
     "execution_count": 82,
     "metadata": {},
     "output_type": "execute_result"
    },
    {
     "data": {
      "image/png": "[encoded data removed]",
      "text/plain": [
       "<Figure size 432x288 with 2 Axes>"
      ]
     },
     "metadata": {
      "needs_background": "light"
     },
     "output_type": "display_data"
    }
   ],
   "source": [
    "cm_matrix = pd.DataFrame(data=cm, columns=['Actual Positive:1', 'Actual Negative:0'], \n",
    "                                 index=['Predict Positive:1', 'Predict Negative:0'])\n",
    "sns.heatmap(cm_matrix, annot=True, fmt='d', cmap='cividis')"
   ]
  },
  {
   "cell_type": "code",
   "execution_count": 83,
   "id": "ca08e2fe",
   "metadata": {},
   "outputs": [
    {
     "name": "stdout",
     "output_type": "stream",
     "text": [
      "              precision    recall  f1-score   support\n",
      "\n",
      "           0       0.93      0.97      0.95      9994\n",
      "           1       0.64      0.40      0.49      1309\n",
      "\n",
      "    accuracy                           0.90     11303\n",
      "   macro avg       0.78      0.68      0.72     11303\n",
      "weighted avg       0.89      0.90      0.89     11303\n",
      "\n"
     ]
    }
   ],
   "source": [
    "#Classification report for Random Forest\n",
    "from sklearn.metrics import classification_report\n",
    "print(classification_report(y_test, y_predr))"
   ]
  },
  {
   "cell_type": "code",
   "execution_count": 84,
   "id": "46b8a000",
   "metadata": {},
   "outputs": [
    {
     "name": "stderr",
     "output_type": "stream",
     "text": [
      "C:\\Users\\Mitali\\anaconda3\\lib\\site-packages\\sklearn\\utils\\validation.py:1688: FutureWarning: Feature names only support names that are all strings. Got feature names with dtypes: ['tuple']. An error will be raised in 1.2.\n",
      "  warnings.warn(\n"
     ]
    },
    {
     "data": {
      "text/plain": [
       "<sklearn.metrics._plot.roc_curve.RocCurveDisplay at 0x1c4fa2fd220>"
      ]
     },
     "execution_count": 84,
     "metadata": {},
     "output_type": "execute_result"
    },
    {
     "data": {
      "image/png": "[encoded data removed]",
      "text/plain": [
       "<Figure size 432x288 with 1 Axes>"
      ]
     },
     "metadata": {
      "needs_background": "light"
     },
     "output_type": "display_data"
    }
   ],
   "source": [
    "#ROC Curve for Random Forest\n",
    "RocCurveDisplay.from_estimator(rf, X_test, y_test)"
   ]
  },
  {
   "cell_type": "code",
   "execution_count": 85,
   "id": "d34923f8",
   "metadata": {},
   "outputs": [
    {
     "name": "stderr",
     "output_type": "stream",
     "text": [
      "C:\\Users\\Mitali\\anaconda3\\lib\\site-packages\\sklearn\\utils\\validation.py:1688: FutureWarning: Feature names only support names that are all strings. Got feature names with dtypes: ['tuple']. An error will be raised in 1.2.\n",
      "  warnings.warn(\n",
      "C:\\Users\\Mitali\\anaconda3\\lib\\site-packages\\sklearn\\utils\\validation.py:1688: FutureWarning: Feature names only support names that are all strings. Got feature names with dtypes: ['tuple']. An error will be raised in 1.2.\n",
      "  warnings.warn(\n"
     ]
    }
   ],
   "source": [
    "#LOGISTIC REGRESSION\n",
    "lr = LogisticRegression(solver='liblinear')\n",
    "lr.fit(X_train, y_train)\n",
    "y_predl = lr.predict(X_test)"
   ]
  },
  {
   "cell_type": "code",
   "execution_count": 86,
   "id": "62e51c97",
   "metadata": {},
   "outputs": [
    {
     "name": "stdout",
     "output_type": "stream",
     "text": [
      "Model accuracy score: 0.8935\n"
     ]
    }
   ],
   "source": [
    "#Accuracy for Logistic Regression\n",
    "print('Model accuracy score: {0:0.4f}'. format(accuracy_score(y_test, y_predl)))"
   ]
  },
  {
   "cell_type": "code",
   "execution_count": 87,
   "id": "5c4a7e9c",
   "metadata": {},
   "outputs": [
    {
     "name": "stdout",
     "output_type": "stream",
     "text": [
      "Confusion matrix\n",
      "\n",
      " [[9809  185]\n",
      " [1019  290]]\n",
      "\n",
      "True Positives(TP) =  9809\n",
      "\n",
      "True Negatives(TN) =  290\n",
      "\n",
      "False Positives(FP) =  185\n",
      "\n",
      "False Negatives(FN) =  1019\n"
     ]
    }
   ],
   "source": [
    "# Print the Confusion Matrix and slice it into four pieces\n",
    "from sklearn.metrics import confusion_matrix\n",
    "cm = confusion_matrix(y_test, y_predl)\n",
    "print('Confusion matrix\\n\\n', cm)\n",
    "print('\\nTrue Positives(TP) = ', cm[0,0])\n",
    "print('\\nTrue Negatives(TN) = ', cm[1,1])\n",
    "print('\\nFalse Positives(FP) = ', cm[0,1])\n",
    "print('\\nFalse Negatives(FN) = ', cm[1,0])"
   ]
  },
  {
   "cell_type": "code",
   "execution_count": 88,
   "id": "88019731",
   "metadata": {},
   "outputs": [
    {
     "data": {
      "text/plain": [
       "<AxesSubplot:>"
      ]
     },
     "execution_count": 88,
     "metadata": {},
     "output_type": "execute_result"
    },
    {
     "data": {
      "image/png": "[encoded data removed]",
      "text/plain": [
       "<Figure size 432x288 with 2 Axes>"
      ]
     },
     "metadata": {
      "needs_background": "light"
     },
     "output_type": "display_data"
    }
   ],
   "source": [
    "cm_matrix = pd.DataFrame(data=cm, columns=['Actual Positive:1', 'Actual Negative:0'], \n",
    "                                 index=['Predict Positive:1', 'Predict Negative:0'])\n",
    "sns.heatmap(cm_matrix, annot=True, fmt='d', cmap='viridis')"
   ]
  },
  {
   "cell_type": "code",
   "execution_count": 89,
   "id": "fc019af4",
   "metadata": {},
   "outputs": [
    {
     "name": "stdout",
     "output_type": "stream",
     "text": [
      "              precision    recall  f1-score   support\n",
      "\n",
      "           0       0.91      0.98      0.94      9994\n",
      "           1       0.61      0.22      0.33      1309\n",
      "\n",
      "    accuracy                           0.89     11303\n",
      "   macro avg       0.76      0.60      0.63     11303\n",
      "weighted avg       0.87      0.89      0.87     11303\n",
      "\n"
     ]
    }
   ],
   "source": [
    "#Classification report for Logistic Regression\n",
    "from sklearn.metrics import classification_report\n",
    "print(classification_report(y_test, y_predl))"
   ]
  },
  {
   "cell_type": "code",
   "execution_count": 90,
   "id": "338024cc",
   "metadata": {},
   "outputs": [
    {
     "name": "stderr",
     "output_type": "stream",
     "text": [
      "C:\\Users\\Mitali\\anaconda3\\lib\\site-packages\\sklearn\\utils\\validation.py:1688: FutureWarning: Feature names only support names that are all strings. Got feature names with dtypes: ['tuple']. An error will be raised in 1.2.\n",
      "  warnings.warn(\n"
     ]
    },
    {
     "data": {
      "text/plain": [
       "<sklearn.metrics._plot.roc_curve.RocCurveDisplay at 0x1c4fa136c40>"
      ]
     },
     "execution_count": 90,
     "metadata": {},
     "output_type": "execute_result"
    },
    {
     "data": {
      "image/png": "[encoded data removed]",
      "text/plain": [
       "<Figure size 432x288 with 1 Axes>"
      ]
     },
     "metadata": {
      "needs_background": "light"
     },
     "output_type": "display_data"
    }
   ],
   "source": [
    "#ROC Curve for Logistic Regression \n",
    "RocCurveDisplay.from_estimator(lr, X_test, y_test)"
   ]
  },
  {
   "cell_type": "code",
   "execution_count": 91,
   "id": "27f96c99",
   "metadata": {},
   "outputs": [
    {
     "name": "stderr",
     "output_type": "stream",
     "text": [
      "C:\\Users\\Mitali\\anaconda3\\lib\\site-packages\\sklearn\\utils\\validation.py:1688: FutureWarning: Feature names only support names that are all strings. Got feature names with dtypes: ['tuple']. An error will be raised in 1.2.\n",
      "  warnings.warn(\n",
      "C:\\Users\\Mitali\\anaconda3\\lib\\site-packages\\sklearn\\utils\\validation.py:1688: FutureWarning: Feature names only support names that are all strings. Got feature names with dtypes: ['tuple']. An error will be raised in 1.2.\n",
      "  warnings.warn(\n"
     ]
    }
   ],
   "source": [
    "#GaussianNb\n",
    "gn = GaussianNB()\n",
    "gn.fit(X_train, y_train)\n",
    "y_predg = gn.predict(X_test)"
   ]
  },
  {
   "cell_type": "code",
   "execution_count": 92,
   "id": "fa3b85d3",
   "metadata": {},
   "outputs": [
    {
     "name": "stdout",
     "output_type": "stream",
     "text": [
      "Model accuracy score: 0.8406\n"
     ]
    }
   ],
   "source": [
    "#GaussianNb Accuracy\n",
    "print('Model accuracy score: {0:0.4f}'. format(accuracy_score(y_test, y_predg)))"
   ]
  },
  {
   "cell_type": "code",
   "execution_count": 93,
   "id": "276a6de6",
   "metadata": {},
   "outputs": [
    {
     "name": "stdout",
     "output_type": "stream",
     "text": [
      "Confusion matrix\n",
      "\n",
      " [[8886 1108]\n",
      " [ 694  615]]\n",
      "\n",
      "True Positives(TP) =  8886\n",
      "\n",
      "True Negatives(TN) =  615\n",
      "\n",
      "False Positives(FP) =  1108\n",
      "\n",
      "False Negatives(FN) =  694\n"
     ]
    }
   ],
   "source": [
    "# Print the Confusion Matrix and slice it into four pieces\n",
    "from sklearn.metrics import confusion_matrix\n",
    "cm = confusion_matrix(y_test, y_predg)\n",
    "print('Confusion matrix\\n\\n', cm)\n",
    "print('\\nTrue Positives(TP) = ', cm[0,0])\n",
    "print('\\nTrue Negatives(TN) = ', cm[1,1])\n",
    "print('\\nFalse Positives(FP) = ', cm[0,1])\n",
    "print('\\nFalse Negatives(FN) = ', cm[1,0])"
   ]
  },
  {
   "cell_type": "code",
   "execution_count": 94,
   "id": "0436b0e8",
   "metadata": {},
   "outputs": [
    {
     "data": {
      "text/plain": [
       "<AxesSubplot:>"
      ]
     },
     "execution_count": 94,
     "metadata": {},
     "output_type": "execute_result"
    },
    {
     "data": {
      "image/png": "[encoded data removed]",
      "text/plain": [
       "<Figure size 432x288 with 2 Axes>"
      ]
     },
     "metadata": {
      "needs_background": "light"
     },
     "output_type": "display_data"
    }
   ],
   "source": [
    "cm_matrix = pd.DataFrame(data=cm, columns=['Actual Positive:1', 'Actual Negative:0'], \n",
    "                                 index=['Predict Positive:1', 'Predict Negative:0'])\n",
    "sns.heatmap(cm_matrix, annot=True, fmt='d', cmap='jet')"
   ]
  },
  {
   "cell_type": "code",
   "execution_count": 95,
   "id": "d5a8e8c6",
   "metadata": {},
   "outputs": [
    {
     "name": "stdout",
     "output_type": "stream",
     "text": [
      "              precision    recall  f1-score   support\n",
      "\n",
      "           0       0.93      0.89      0.91      9994\n",
      "           1       0.36      0.47      0.41      1309\n",
      "\n",
      "    accuracy                           0.84     11303\n",
      "   macro avg       0.64      0.68      0.66     11303\n",
      "weighted avg       0.86      0.84      0.85     11303\n",
      "\n"
     ]
    }
   ],
   "source": [
    "#Classification report for GaussianNB\n",
    "from sklearn.metrics import classification_report\n",
    "print(classification_report(y_test, y_predg))"
   ]
  },
  {
   "cell_type": "code",
   "execution_count": 96,
   "id": "677b2280",
   "metadata": {},
   "outputs": [
    {
     "name": "stderr",
     "output_type": "stream",
     "text": [
      "C:\\Users\\Mitali\\anaconda3\\lib\\site-packages\\sklearn\\utils\\validation.py:1688: FutureWarning: Feature names only support names that are all strings. Got feature names with dtypes: ['tuple']. An error will be raised in 1.2.\n",
      "  warnings.warn(\n"
     ]
    },
    {
     "data": {
      "text/plain": [
       "<sklearn.metrics._plot.roc_curve.RocCurveDisplay at 0x1c4f9efc3d0>"
      ]
     },
     "execution_count": 96,
     "metadata": {},
     "output_type": "execute_result"
    },
    {
     "data": {
      "image/png": "[encoded data removed]",
      "text/plain": [
       "<Figure size 432x288 with 1 Axes>"
      ]
     },
     "metadata": {
      "needs_background": "light"
     },
     "output_type": "display_data"
    }
   ],
   "source": [
    "#ROC Curve for GaussianNB \n",
    "RocCurveDisplay.from_estimator(gn, X_test, y_test)"
   ]
  },
  {
   "cell_type": "code",
   "execution_count": 97,
   "id": "632b62e9",
   "metadata": {},
   "outputs": [
    {
     "name": "stderr",
     "output_type": "stream",
     "text": [
      "C:\\Users\\Mitali\\anaconda3\\lib\\site-packages\\sklearn\\utils\\validation.py:1688: FutureWarning: Feature names only support names that are all strings. Got feature names with dtypes: ['tuple']. An error will be raised in 1.2.\n",
      "  warnings.warn(\n",
      "C:\\Users\\Mitali\\anaconda3\\lib\\site-packages\\sklearn\\utils\\validation.py:1688: FutureWarning: Feature names only support names that are all strings. Got feature names with dtypes: ['tuple']. An error will be raised in 1.2.\n",
      "  warnings.warn(\n"
     ]
    }
   ],
   "source": [
    "#Gradient Boosting\n",
    "from sklearn.ensemble import GradientBoostingClassifier\n",
    "gbc = GradientBoostingClassifier()\n",
    "gbc.fit(X_train, y_train)\n",
    "y_predb = gbc.predict(X_test)"
   ]
  },
  {
   "cell_type": "code",
   "execution_count": 98,
   "id": "d1b65607",
   "metadata": {},
   "outputs": [
    {
     "name": "stdout",
     "output_type": "stream",
     "text": [
      "Model accuracy score: 0.9068\n"
     ]
    }
   ],
   "source": [
    "#Accuracy for Gradient Boosting\n",
    "print('Model accuracy score: {0:0.4f}'. format(accuracy_score(y_test, y_predb)))"
   ]
  },
  {
   "cell_type": "code",
   "execution_count": 99,
   "id": "120ed6f3",
   "metadata": {},
   "outputs": [
    {
     "name": "stdout",
     "output_type": "stream",
     "text": [
      "Confusion matrix\n",
      "\n",
      " [[9724  270]\n",
      " [ 784  525]]\n",
      "\n",
      "True Positives(TP) =  9724\n",
      "\n",
      "True Negatives(TN) =  525\n",
      "\n",
      "False Positives(FP) =  270\n",
      "\n",
      "False Negatives(FN) =  784\n"
     ]
    }
   ],
   "source": [
    "# Print the Confusion Matrix and slice it into four pieces\n",
    "from sklearn.metrics import confusion_matrix\n",
    "cm = confusion_matrix(y_test, y_predb)\n",
    "print('Confusion matrix\\n\\n', cm)\n",
    "print('\\nTrue Positives(TP) = ', cm[0,0])\n",
    "print('\\nTrue Negatives(TN) = ', cm[1,1])\n",
    "print('\\nFalse Positives(FP) = ', cm[0,1])\n",
    "print('\\nFalse Negatives(FN) = ', cm[1,0])"
   ]
  },
  {
   "cell_type": "code",
   "execution_count": 100,
   "id": "c899aeeb",
   "metadata": {},
   "outputs": [
    {
     "data": {
      "text/plain": [
       "<AxesSubplot:>"
      ]
     },
     "execution_count": 100,
     "metadata": {},
     "output_type": "execute_result"
    },
    {
     "data": {
      "image/png": "[encoded data removed]",
      "text/plain": [
       "<Figure size 432x288 with 2 Axes>"
      ]
     },
     "metadata": {
      "needs_background": "light"
     },
     "output_type": "display_data"
    }
   ],
   "source": [
    "cm_matrix = pd.DataFrame(data=cm, columns=['Actual Positive:1', 'Actual Negative:0'], \n",
    "                                 index=['Predict Positive:1', 'Predict Negative:0'])\n",
    "sns.heatmap(cm_matrix, annot=True, fmt='d', cmap='plasma')"
   ]
  },
  {
   "cell_type": "code",
   "execution_count": 101,
   "id": "77486123",
   "metadata": {},
   "outputs": [
    {
     "name": "stdout",
     "output_type": "stream",
     "text": [
      "              precision    recall  f1-score   support\n",
      "\n",
      "           0       0.93      0.97      0.95      9994\n",
      "           1       0.66      0.40      0.50      1309\n",
      "\n",
      "    accuracy                           0.91     11303\n",
      "   macro avg       0.79      0.69      0.72     11303\n",
      "weighted avg       0.89      0.91      0.90     11303\n",
      "\n"
     ]
    }
   ],
   "source": [
    "#Classification report for Gradient Boosting\n",
    "from sklearn.metrics import classification_report\n",
    "print(classification_report(y_test, y_predb))"
   ]
  },
  {
   "cell_type": "code",
   "execution_count": 102,
   "id": "ed422024",
   "metadata": {},
   "outputs": [
    {
     "name": "stderr",
     "output_type": "stream",
     "text": [
      "C:\\Users\\Mitali\\anaconda3\\lib\\site-packages\\sklearn\\utils\\validation.py:1688: FutureWarning: Feature names only support names that are all strings. Got feature names with dtypes: ['tuple']. An error will be raised in 1.2.\n",
      "  warnings.warn(\n"
     ]
    },
    {
     "data": {
      "text/plain": [
       "<sklearn.metrics._plot.roc_curve.RocCurveDisplay at 0x1c4fab3abe0>"
      ]
     },
     "execution_count": 102,
     "metadata": {},
     "output_type": "execute_result"
    },
    {
     "data": {
      "image/png": "[encoded data removed]",
      "text/plain": [
       "<Figure size 432x288 with 1 Axes>"
      ]
     },
     "metadata": {
      "needs_background": "light"
     },
     "output_type": "display_data"
    }
   ],
   "source": [
    "#ROC curve for Gradient Boosting \n",
    "RocCurveDisplay.from_estimator(gbc, X_test, y_test)"
   ]
  },
  {
   "cell_type": "code",
   "execution_count": null,
   "id": "90a552cd",
   "metadata": {},
   "outputs": [],
   "source": []
  },
  {
   "cell_type": "code",
   "execution_count": null,
   "id": "4cdd2703",
   "metadata": {},
   "outputs": [],
   "source": []
  }
 ],
 "metadata": {
  "kernelspec": {
   "display_name": "Python 3 (ipykernel)",
   "language": "python",
   "name": "python3"
  },
  "language_info": {
   "codemirror_mode": {
    "name": "ipython",
    "version": 3
   },
   "file_extension": ".py",
   "mimetype": "text/x-python",
   "name": "python",
   "nbconvert_exporter": "python",
   "pygments_lexer": "ipython3",
   "version": "3.9.7"
  }
 },
 "nbformat": 4,
 "nbformat_minor": 5
}
